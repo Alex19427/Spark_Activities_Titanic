{
 "cells": [
  {
   "cell_type": "markdown",
   "metadata": {},
   "source": [
    "# Setting Up"
   ]
  },
  {
   "cell_type": "markdown",
   "metadata": {},
   "source": [
    "## Init"
   ]
  },
  {
   "cell_type": "code",
   "execution_count": 1,
   "metadata": {
    "collapsed": true
   },
   "outputs": [],
   "source": [
    "import seaborn as sns\n",
    "import numpy as np\n",
    "import pandas as pd\n",
    "import collections # For frequency counting\n",
    "import findspark\n",
    "findspark.init(\"C:\\opt\\spark\")\n",
    "\n",
    "import pyspark\n",
    "from pyspark.sql import DataFrameNaFunctions\n",
    "from pyspark.sql.functions import lit # Create columns of *literal* value\n",
    "from pyspark.sql.functions import col # Returns a Column based on the \n",
    "                                      # given column name\n",
    "from pyspark.ml.feature import StringIndexer #label encoding\n",
    "from pyspark.ml import Pipeline,PipelineModel\n",
    "\n",
    "sc = pyspark.SparkContext(appName=\"helloworld\")"
   ]
  },
  {
   "cell_type": "markdown",
   "metadata": {},
   "source": [
    "## SparkSession"
   ]
  },
  {
   "cell_type": "code",
   "execution_count": 2,
   "metadata": {
    "collapsed": true
   },
   "outputs": [],
   "source": [
    "from pyspark.sql import SparkSession\n",
    "\n",
    "spark = SparkSession \\\n",
    "    .builder \\\n",
    "    .appName(\"Python Spark SQL basic example\") \\\n",
    "    .config(\"spark.some.config.option\", \"some-value\") \\\n",
    "    .getOrCreate()"
   ]
  },
  {
   "cell_type": "markdown",
   "metadata": {},
   "source": [
    "## Data"
   ]
  },
  {
   "cell_type": "code",
   "execution_count": 3,
   "metadata": {
    "collapsed": true
   },
   "outputs": [],
   "source": [
    "trainDF = spark.read.csv(\"train.csv\", header=\"true\")\n",
    "testDF = spark.read.csv(\"test.csv\", header=\"true\")"
   ]
  },
  {
   "cell_type": "markdown",
   "metadata": {},
   "source": [
    "**Combine train and test data.**"
   ]
  },
  {
   "cell_type": "code",
   "execution_count": 4,
   "metadata": {},
   "outputs": [
    {
     "data": {
      "text/plain": [
       "['PassengerId',\n",
       " 'Survived',\n",
       " 'Pclass',\n",
       " 'Name',\n",
       " 'Sex',\n",
       " 'Age',\n",
       " 'SibSp',\n",
       " 'Parch',\n",
       " 'Ticket',\n",
       " 'Fare',\n",
       " 'Cabin',\n",
       " 'Embarked']"
      ]
     },
     "execution_count": 4,
     "metadata": {},
     "output_type": "execute_result"
    }
   ],
   "source": [
    "trainDF.columns"
   ]
  },
  {
   "cell_type": "code",
   "execution_count": 5,
   "metadata": {},
   "outputs": [
    {
     "data": {
      "text/plain": [
       "[Row(Embarked='S'),\n",
       " Row(Embarked='C'),\n",
       " Row(Embarked='S'),\n",
       " Row(Embarked='S'),\n",
       " Row(Embarked='S'),\n",
       " Row(Embarked='Q'),\n",
       " Row(Embarked='S'),\n",
       " Row(Embarked='S'),\n",
       " Row(Embarked='S'),\n",
       " Row(Embarked='C'),\n",
       " Row(Embarked='S'),\n",
       " Row(Embarked='S'),\n",
       " Row(Embarked='S'),\n",
       " Row(Embarked='S'),\n",
       " Row(Embarked='S'),\n",
       " Row(Embarked='S'),\n",
       " Row(Embarked='Q'),\n",
       " Row(Embarked='S'),\n",
       " Row(Embarked='S'),\n",
       " Row(Embarked='C'),\n",
       " Row(Embarked='S'),\n",
       " Row(Embarked='S'),\n",
       " Row(Embarked='Q'),\n",
       " Row(Embarked='S'),\n",
       " Row(Embarked='S'),\n",
       " Row(Embarked='S'),\n",
       " Row(Embarked='C'),\n",
       " Row(Embarked='S'),\n",
       " Row(Embarked='Q'),\n",
       " Row(Embarked='S'),\n",
       " Row(Embarked='C'),\n",
       " Row(Embarked='C'),\n",
       " Row(Embarked='Q'),\n",
       " Row(Embarked='S'),\n",
       " Row(Embarked='C'),\n",
       " Row(Embarked='S'),\n",
       " Row(Embarked='C'),\n",
       " Row(Embarked='S'),\n",
       " Row(Embarked='S'),\n",
       " Row(Embarked='C'),\n",
       " Row(Embarked='S'),\n",
       " Row(Embarked='S'),\n",
       " Row(Embarked='C'),\n",
       " Row(Embarked='C'),\n",
       " Row(Embarked='Q'),\n",
       " Row(Embarked='S'),\n",
       " Row(Embarked='Q'),\n",
       " Row(Embarked='Q'),\n",
       " Row(Embarked='C'),\n",
       " Row(Embarked='S'),\n",
       " Row(Embarked='S'),\n",
       " Row(Embarked='S'),\n",
       " Row(Embarked='C'),\n",
       " Row(Embarked='S'),\n",
       " Row(Embarked='C'),\n",
       " Row(Embarked='S'),\n",
       " Row(Embarked='S'),\n",
       " Row(Embarked='C'),\n",
       " Row(Embarked='S'),\n",
       " Row(Embarked='S'),\n",
       " Row(Embarked='C'),\n",
       " Row(Embarked=None),\n",
       " Row(Embarked='S'),\n",
       " Row(Embarked='S'),\n",
       " Row(Embarked='C'),\n",
       " Row(Embarked='C'),\n",
       " Row(Embarked='S'),\n",
       " Row(Embarked='S'),\n",
       " Row(Embarked='S'),\n",
       " Row(Embarked='S'),\n",
       " Row(Embarked='S'),\n",
       " Row(Embarked='S'),\n",
       " Row(Embarked='S'),\n",
       " Row(Embarked='C'),\n",
       " Row(Embarked='S'),\n",
       " Row(Embarked='S'),\n",
       " Row(Embarked='S'),\n",
       " Row(Embarked='S'),\n",
       " Row(Embarked='S'),\n",
       " Row(Embarked='S'),\n",
       " Row(Embarked='S'),\n",
       " Row(Embarked='S'),\n",
       " Row(Embarked='Q'),\n",
       " Row(Embarked='S'),\n",
       " Row(Embarked='S'),\n",
       " Row(Embarked='S'),\n",
       " Row(Embarked='S'),\n",
       " Row(Embarked='S'),\n",
       " Row(Embarked='S'),\n",
       " Row(Embarked='S'),\n",
       " Row(Embarked='S'),\n",
       " Row(Embarked='S'),\n",
       " Row(Embarked='S'),\n",
       " Row(Embarked='S'),\n",
       " Row(Embarked='S'),\n",
       " Row(Embarked='S'),\n",
       " Row(Embarked='C'),\n",
       " Row(Embarked='C'),\n",
       " Row(Embarked='S'),\n",
       " Row(Embarked='S'),\n",
       " Row(Embarked='S'),\n",
       " Row(Embarked='S'),\n",
       " Row(Embarked='S'),\n",
       " Row(Embarked='S'),\n",
       " Row(Embarked='S'),\n",
       " Row(Embarked='S'),\n",
       " Row(Embarked='S'),\n",
       " Row(Embarked='S'),\n",
       " Row(Embarked='S'),\n",
       " Row(Embarked='Q'),\n",
       " Row(Embarked='S'),\n",
       " Row(Embarked='C'),\n",
       " Row(Embarked='S'),\n",
       " Row(Embarked='S'),\n",
       " Row(Embarked='C'),\n",
       " Row(Embarked='S'),\n",
       " Row(Embarked='Q'),\n",
       " Row(Embarked='S'),\n",
       " Row(Embarked='C'),\n",
       " Row(Embarked='S'),\n",
       " Row(Embarked='S'),\n",
       " Row(Embarked='S'),\n",
       " Row(Embarked='C'),\n",
       " Row(Embarked='S'),\n",
       " Row(Embarked='S'),\n",
       " Row(Embarked='C'),\n",
       " Row(Embarked='Q'),\n",
       " Row(Embarked='S'),\n",
       " Row(Embarked='C'),\n",
       " Row(Embarked='S'),\n",
       " Row(Embarked='C'),\n",
       " Row(Embarked='S'),\n",
       " Row(Embarked='S'),\n",
       " Row(Embarked='S'),\n",
       " Row(Embarked='S'),\n",
       " Row(Embarked='C'),\n",
       " Row(Embarked='S'),\n",
       " Row(Embarked='S'),\n",
       " Row(Embarked='S'),\n",
       " Row(Embarked='C'),\n",
       " Row(Embarked='C'),\n",
       " Row(Embarked='S'),\n",
       " Row(Embarked='S'),\n",
       " Row(Embarked='Q'),\n",
       " Row(Embarked='S'),\n",
       " Row(Embarked='S'),\n",
       " Row(Embarked='S'),\n",
       " Row(Embarked='S'),\n",
       " Row(Embarked='S'),\n",
       " Row(Embarked='S'),\n",
       " Row(Embarked='S'),\n",
       " Row(Embarked='S'),\n",
       " Row(Embarked='S'),\n",
       " Row(Embarked='S'),\n",
       " Row(Embarked='S'),\n",
       " Row(Embarked='C'),\n",
       " Row(Embarked='Q'),\n",
       " Row(Embarked='S'),\n",
       " Row(Embarked='S'),\n",
       " Row(Embarked='S'),\n",
       " Row(Embarked='S'),\n",
       " Row(Embarked='S'),\n",
       " Row(Embarked='S'),\n",
       " Row(Embarked='S'),\n",
       " Row(Embarked='S'),\n",
       " Row(Embarked='S'),\n",
       " Row(Embarked='S'),\n",
       " Row(Embarked='S'),\n",
       " Row(Embarked='S'),\n",
       " Row(Embarked='S'),\n",
       " Row(Embarked='S'),\n",
       " Row(Embarked='Q'),\n",
       " Row(Embarked='S'),\n",
       " Row(Embarked='S'),\n",
       " Row(Embarked='C'),\n",
       " Row(Embarked='S'),\n",
       " Row(Embarked='S'),\n",
       " Row(Embarked='C'),\n",
       " Row(Embarked='S'),\n",
       " Row(Embarked='S'),\n",
       " Row(Embarked='S'),\n",
       " Row(Embarked='C'),\n",
       " Row(Embarked='S'),\n",
       " Row(Embarked='S'),\n",
       " Row(Embarked='S'),\n",
       " Row(Embarked='S'),\n",
       " Row(Embarked='Q'),\n",
       " Row(Embarked='S'),\n",
       " Row(Embarked='Q'),\n",
       " Row(Embarked='S'),\n",
       " Row(Embarked='S'),\n",
       " Row(Embarked='S'),\n",
       " Row(Embarked='S'),\n",
       " Row(Embarked='S'),\n",
       " Row(Embarked='C'),\n",
       " Row(Embarked='C'),\n",
       " Row(Embarked='Q'),\n",
       " Row(Embarked='S'),\n",
       " Row(Embarked='Q'),\n",
       " Row(Embarked='S'),\n",
       " Row(Embarked='S'),\n",
       " Row(Embarked='S'),\n",
       " Row(Embarked='S'),\n",
       " Row(Embarked='C'),\n",
       " Row(Embarked='S'),\n",
       " Row(Embarked='S'),\n",
       " Row(Embarked='S'),\n",
       " Row(Embarked='C'),\n",
       " Row(Embarked='Q'),\n",
       " Row(Embarked='C'),\n",
       " Row(Embarked='S'),\n",
       " Row(Embarked='S'),\n",
       " Row(Embarked='S'),\n",
       " Row(Embarked='S'),\n",
       " Row(Embarked='Q'),\n",
       " Row(Embarked='C'),\n",
       " Row(Embarked='S'),\n",
       " Row(Embarked='S'),\n",
       " Row(Embarked='C'),\n",
       " Row(Embarked='S'),\n",
       " Row(Embarked='S'),\n",
       " Row(Embarked='S'),\n",
       " Row(Embarked='S'),\n",
       " Row(Embarked='S'),\n",
       " Row(Embarked='S'),\n",
       " Row(Embarked='S'),\n",
       " Row(Embarked='S'),\n",
       " Row(Embarked='S'),\n",
       " Row(Embarked='S'),\n",
       " Row(Embarked='S'),\n",
       " Row(Embarked='S'),\n",
       " Row(Embarked='S'),\n",
       " Row(Embarked='S'),\n",
       " Row(Embarked='S'),\n",
       " Row(Embarked='S'),\n",
       " Row(Embarked='S'),\n",
       " Row(Embarked='S'),\n",
       " Row(Embarked='S'),\n",
       " Row(Embarked='S'),\n",
       " Row(Embarked='S'),\n",
       " Row(Embarked='C'),\n",
       " Row(Embarked='Q'),\n",
       " Row(Embarked='S'),\n",
       " Row(Embarked='S'),\n",
       " Row(Embarked='C'),\n",
       " Row(Embarked='Q'),\n",
       " Row(Embarked='S'),\n",
       " Row(Embarked='S'),\n",
       " Row(Embarked='S'),\n",
       " Row(Embarked='S'),\n",
       " Row(Embarked='S'),\n",
       " Row(Embarked='S'),\n",
       " Row(Embarked='S'),\n",
       " Row(Embarked='S'),\n",
       " Row(Embarked='S'),\n",
       " Row(Embarked='C'),\n",
       " Row(Embarked='C'),\n",
       " Row(Embarked='S'),\n",
       " Row(Embarked='C'),\n",
       " Row(Embarked='S'),\n",
       " Row(Embarked='Q'),\n",
       " Row(Embarked='S'),\n",
       " Row(Embarked='S'),\n",
       " Row(Embarked='S'),\n",
       " Row(Embarked='Q'),\n",
       " Row(Embarked='S'),\n",
       " Row(Embarked='S'),\n",
       " Row(Embarked='S'),\n",
       " Row(Embarked='S'),\n",
       " Row(Embarked='S'),\n",
       " Row(Embarked='S'),\n",
       " Row(Embarked='S'),\n",
       " Row(Embarked='S'),\n",
       " Row(Embarked='C'),\n",
       " Row(Embarked='Q'),\n",
       " Row(Embarked='S'),\n",
       " Row(Embarked='S'),\n",
       " Row(Embarked='S'),\n",
       " Row(Embarked='Q'),\n",
       " Row(Embarked='S'),\n",
       " Row(Embarked='Q'),\n",
       " Row(Embarked='S'),\n",
       " Row(Embarked='S'),\n",
       " Row(Embarked='S'),\n",
       " Row(Embarked='S'),\n",
       " Row(Embarked='C'),\n",
       " Row(Embarked='S'),\n",
       " Row(Embarked='S'),\n",
       " Row(Embarked='S'),\n",
       " Row(Embarked='Q'),\n",
       " Row(Embarked='S'),\n",
       " Row(Embarked='C'),\n",
       " Row(Embarked='C'),\n",
       " Row(Embarked='S'),\n",
       " Row(Embarked='S'),\n",
       " Row(Embarked='C'),\n",
       " Row(Embarked='C'),\n",
       " Row(Embarked='S'),\n",
       " Row(Embarked='S'),\n",
       " Row(Embarked='C'),\n",
       " Row(Embarked='Q'),\n",
       " Row(Embarked='Q'),\n",
       " Row(Embarked='S'),\n",
       " Row(Embarked='Q'),\n",
       " Row(Embarked='S'),\n",
       " Row(Embarked='S'),\n",
       " Row(Embarked='C'),\n",
       " Row(Embarked='C'),\n",
       " Row(Embarked='C'),\n",
       " Row(Embarked='C'),\n",
       " Row(Embarked='C'),\n",
       " Row(Embarked='C'),\n",
       " Row(Embarked='S'),\n",
       " Row(Embarked='S'),\n",
       " Row(Embarked='S'),\n",
       " Row(Embarked='S'),\n",
       " Row(Embarked='S'),\n",
       " Row(Embarked='S'),\n",
       " Row(Embarked='S'),\n",
       " Row(Embarked='C'),\n",
       " Row(Embarked='S'),\n",
       " Row(Embarked='S'),\n",
       " Row(Embarked='Q'),\n",
       " Row(Embarked='S'),\n",
       " Row(Embarked='S'),\n",
       " Row(Embarked='C'),\n",
       " Row(Embarked='S'),\n",
       " Row(Embarked='S'),\n",
       " Row(Embarked='S'),\n",
       " Row(Embarked='C'),\n",
       " Row(Embarked='Q'),\n",
       " Row(Embarked='S'),\n",
       " Row(Embarked='S'),\n",
       " Row(Embarked='S'),\n",
       " Row(Embarked='S'),\n",
       " Row(Embarked='S'),\n",
       " Row(Embarked='S'),\n",
       " Row(Embarked='C'),\n",
       " Row(Embarked='S'),\n",
       " Row(Embarked='S'),\n",
       " Row(Embarked='S'),\n",
       " Row(Embarked='S'),\n",
       " Row(Embarked='S'),\n",
       " Row(Embarked='S'),\n",
       " Row(Embarked='S'),\n",
       " Row(Embarked='S'),\n",
       " Row(Embarked='S'),\n",
       " Row(Embarked='S'),\n",
       " Row(Embarked='S'),\n",
       " Row(Embarked='S'),\n",
       " Row(Embarked='S'),\n",
       " Row(Embarked='S'),\n",
       " Row(Embarked='C'),\n",
       " Row(Embarked='S'),\n",
       " Row(Embarked='C'),\n",
       " Row(Embarked='S'),\n",
       " Row(Embarked='S'),\n",
       " Row(Embarked='S'),\n",
       " Row(Embarked='Q'),\n",
       " Row(Embarked='Q'),\n",
       " Row(Embarked='S'),\n",
       " Row(Embarked='C'),\n",
       " Row(Embarked='C'),\n",
       " Row(Embarked='S'),\n",
       " Row(Embarked='Q'),\n",
       " Row(Embarked='S'),\n",
       " Row(Embarked='C'),\n",
       " Row(Embarked='C'),\n",
       " Row(Embarked='Q'),\n",
       " Row(Embarked='C'),\n",
       " Row(Embarked='C'),\n",
       " Row(Embarked='S'),\n",
       " Row(Embarked='S'),\n",
       " Row(Embarked='C'),\n",
       " Row(Embarked='S'),\n",
       " Row(Embarked='C'),\n",
       " Row(Embarked='S'),\n",
       " Row(Embarked='C'),\n",
       " Row(Embarked='C'),\n",
       " Row(Embarked='S'),\n",
       " Row(Embarked='C'),\n",
       " Row(Embarked='C'),\n",
       " Row(Embarked='S'),\n",
       " Row(Embarked='S'),\n",
       " Row(Embarked='S'),\n",
       " Row(Embarked='S'),\n",
       " Row(Embarked='S'),\n",
       " Row(Embarked='S'),\n",
       " Row(Embarked='Q'),\n",
       " Row(Embarked='C'),\n",
       " Row(Embarked='S'),\n",
       " Row(Embarked='S'),\n",
       " Row(Embarked='S'),\n",
       " Row(Embarked='C'),\n",
       " Row(Embarked='S'),\n",
       " Row(Embarked='S'),\n",
       " Row(Embarked='S'),\n",
       " Row(Embarked='S'),\n",
       " Row(Embarked='S'),\n",
       " Row(Embarked='S'),\n",
       " Row(Embarked='S'),\n",
       " Row(Embarked='S'),\n",
       " Row(Embarked='S'),\n",
       " Row(Embarked='S'),\n",
       " Row(Embarked='S'),\n",
       " Row(Embarked='S'),\n",
       " Row(Embarked='S'),\n",
       " Row(Embarked='S'),\n",
       " Row(Embarked='S'),\n",
       " Row(Embarked='S'),\n",
       " Row(Embarked='S'),\n",
       " Row(Embarked='Q'),\n",
       " Row(Embarked='Q'),\n",
       " Row(Embarked='S'),\n",
       " Row(Embarked='S'),\n",
       " Row(Embarked='S'),\n",
       " Row(Embarked='S'),\n",
       " Row(Embarked='S'),\n",
       " Row(Embarked='S'),\n",
       " Row(Embarked='S'),\n",
       " Row(Embarked='C'),\n",
       " Row(Embarked='Q'),\n",
       " Row(Embarked='S'),\n",
       " Row(Embarked='S'),\n",
       " Row(Embarked='S'),\n",
       " Row(Embarked='S'),\n",
       " Row(Embarked='S'),\n",
       " Row(Embarked='S'),\n",
       " Row(Embarked='Q'),\n",
       " Row(Embarked='S'),\n",
       " Row(Embarked='S'),\n",
       " Row(Embarked='S'),\n",
       " Row(Embarked='S'),\n",
       " Row(Embarked='S'),\n",
       " Row(Embarked='S'),\n",
       " Row(Embarked='S'),\n",
       " Row(Embarked='S'),\n",
       " Row(Embarked='S'),\n",
       " Row(Embarked='S'),\n",
       " Row(Embarked='S'),\n",
       " Row(Embarked='S'),\n",
       " Row(Embarked='S'),\n",
       " Row(Embarked='S'),\n",
       " Row(Embarked='S'),\n",
       " Row(Embarked='S'),\n",
       " Row(Embarked='S'),\n",
       " Row(Embarked='S'),\n",
       " Row(Embarked='S'),\n",
       " Row(Embarked='C'),\n",
       " Row(Embarked='S'),\n",
       " Row(Embarked='S'),\n",
       " Row(Embarked='S'),\n",
       " Row(Embarked='C'),\n",
       " Row(Embarked='C'),\n",
       " Row(Embarked='S'),\n",
       " Row(Embarked='C'),\n",
       " Row(Embarked='S'),\n",
       " Row(Embarked='S'),\n",
       " Row(Embarked='S'),\n",
       " Row(Embarked='Q'),\n",
       " Row(Embarked='S'),\n",
       " Row(Embarked='S'),\n",
       " Row(Embarked='S'),\n",
       " Row(Embarked='S'),\n",
       " Row(Embarked='S'),\n",
       " Row(Embarked='S'),\n",
       " Row(Embarked='S'),\n",
       " Row(Embarked='S'),\n",
       " Row(Embarked='Q'),\n",
       " Row(Embarked='C'),\n",
       " Row(Embarked='S'),\n",
       " Row(Embarked='S'),\n",
       " Row(Embarked='S'),\n",
       " Row(Embarked='C'),\n",
       " Row(Embarked='S'),\n",
       " Row(Embarked='S'),\n",
       " Row(Embarked='S'),\n",
       " Row(Embarked='S'),\n",
       " Row(Embarked='S'),\n",
       " Row(Embarked='S'),\n",
       " Row(Embarked='S'),\n",
       " Row(Embarked='S'),\n",
       " Row(Embarked='S'),\n",
       " Row(Embarked='S'),\n",
       " Row(Embarked='C'),\n",
       " Row(Embarked='S'),\n",
       " Row(Embarked='S'),\n",
       " Row(Embarked='C'),\n",
       " Row(Embarked='S'),\n",
       " Row(Embarked='S'),\n",
       " Row(Embarked='S'),\n",
       " Row(Embarked='S'),\n",
       " Row(Embarked='S'),\n",
       " Row(Embarked='C'),\n",
       " Row(Embarked='S'),\n",
       " Row(Embarked='C'),\n",
       " Row(Embarked='C'),\n",
       " Row(Embarked='S'),\n",
       " Row(Embarked='S'),\n",
       " Row(Embarked='S'),\n",
       " Row(Embarked='S'),\n",
       " Row(Embarked='Q'),\n",
       " Row(Embarked='Q'),\n",
       " Row(Embarked='S'),\n",
       " Row(Embarked='S'),\n",
       " Row(Embarked='C'),\n",
       " Row(Embarked='S'),\n",
       " Row(Embarked='S'),\n",
       " Row(Embarked='S'),\n",
       " Row(Embarked='S'),\n",
       " Row(Embarked='Q'),\n",
       " Row(Embarked='S'),\n",
       " Row(Embarked='S'),\n",
       " Row(Embarked='C'),\n",
       " Row(Embarked='S'),\n",
       " Row(Embarked='S'),\n",
       " Row(Embarked='S'),\n",
       " Row(Embarked='Q'),\n",
       " Row(Embarked='S'),\n",
       " Row(Embarked='S'),\n",
       " Row(Embarked='S'),\n",
       " Row(Embarked='S'),\n",
       " Row(Embarked='C'),\n",
       " Row(Embarked='C'),\n",
       " Row(Embarked='C'),\n",
       " Row(Embarked='Q'),\n",
       " Row(Embarked='S'),\n",
       " Row(Embarked='S'),\n",
       " Row(Embarked='S'),\n",
       " Row(Embarked='S'),\n",
       " Row(Embarked='S'),\n",
       " Row(Embarked='C'),\n",
       " Row(Embarked='C'),\n",
       " Row(Embarked='C'),\n",
       " Row(Embarked='S'),\n",
       " Row(Embarked='S'),\n",
       " Row(Embarked='S'),\n",
       " Row(Embarked='C'),\n",
       " Row(Embarked='S'),\n",
       " Row(Embarked='C'),\n",
       " Row(Embarked='S'),\n",
       " Row(Embarked='S'),\n",
       " Row(Embarked='S'),\n",
       " Row(Embarked='S'),\n",
       " Row(Embarked='C'),\n",
       " Row(Embarked='S'),\n",
       " Row(Embarked='S'),\n",
       " Row(Embarked='C'),\n",
       " Row(Embarked='S'),\n",
       " Row(Embarked='S'),\n",
       " Row(Embarked='C'),\n",
       " Row(Embarked='S'),\n",
       " Row(Embarked='Q'),\n",
       " Row(Embarked='C'),\n",
       " Row(Embarked='S'),\n",
       " Row(Embarked='S'),\n",
       " Row(Embarked='C'),\n",
       " Row(Embarked='C'),\n",
       " Row(Embarked='S'),\n",
       " Row(Embarked='S'),\n",
       " Row(Embarked='Q'),\n",
       " Row(Embarked='S'),\n",
       " Row(Embarked='S'),\n",
       " Row(Embarked='S'),\n",
       " Row(Embarked='S'),\n",
       " Row(Embarked='S'),\n",
       " Row(Embarked='S'),\n",
       " Row(Embarked='S'),\n",
       " Row(Embarked='C'),\n",
       " Row(Embarked='S'),\n",
       " Row(Embarked='S'),\n",
       " Row(Embarked='S'),\n",
       " Row(Embarked='S'),\n",
       " Row(Embarked='Q'),\n",
       " Row(Embarked='S'),\n",
       " Row(Embarked='S'),\n",
       " Row(Embarked='S'),\n",
       " Row(Embarked='S'),\n",
       " Row(Embarked='C'),\n",
       " Row(Embarked='S'),\n",
       " Row(Embarked='S'),\n",
       " Row(Embarked='C'),\n",
       " Row(Embarked='S'),\n",
       " Row(Embarked='C'),\n",
       " Row(Embarked='C'),\n",
       " Row(Embarked='S'),\n",
       " Row(Embarked='S'),\n",
       " Row(Embarked='C'),\n",
       " Row(Embarked='S'),\n",
       " Row(Embarked='S'),\n",
       " Row(Embarked='S'),\n",
       " Row(Embarked='C'),\n",
       " Row(Embarked='S'),\n",
       " Row(Embarked='Q'),\n",
       " Row(Embarked='S'),\n",
       " Row(Embarked='S'),\n",
       " Row(Embarked='S'),\n",
       " Row(Embarked='S'),\n",
       " Row(Embarked='C'),\n",
       " Row(Embarked='C'),\n",
       " Row(Embarked='S'),\n",
       " Row(Embarked='S'),\n",
       " Row(Embarked='S'),\n",
       " Row(Embarked='S'),\n",
       " Row(Embarked='C'),\n",
       " Row(Embarked='S'),\n",
       " Row(Embarked='S'),\n",
       " Row(Embarked='S'),\n",
       " Row(Embarked='C'),\n",
       " Row(Embarked='S'),\n",
       " Row(Embarked='S'),\n",
       " Row(Embarked='S'),\n",
       " Row(Embarked='Q'),\n",
       " Row(Embarked='Q'),\n",
       " Row(Embarked='S'),\n",
       " Row(Embarked='S'),\n",
       " Row(Embarked='S'),\n",
       " Row(Embarked='S'),\n",
       " Row(Embarked='S'),\n",
       " Row(Embarked='S'),\n",
       " Row(Embarked='C'),\n",
       " Row(Embarked='S'),\n",
       " Row(Embarked='C'),\n",
       " Row(Embarked='S'),\n",
       " Row(Embarked='S'),\n",
       " Row(Embarked='S'),\n",
       " Row(Embarked='Q'),\n",
       " Row(Embarked='S'),\n",
       " Row(Embarked='S'),\n",
       " Row(Embarked='Q'),\n",
       " Row(Embarked='S'),\n",
       " Row(Embarked='S'),\n",
       " Row(Embarked='C'),\n",
       " Row(Embarked='S'),\n",
       " Row(Embarked='S'),\n",
       " Row(Embarked='S'),\n",
       " Row(Embarked='S'),\n",
       " Row(Embarked='S'),\n",
       " Row(Embarked='S'),\n",
       " Row(Embarked='S'),\n",
       " Row(Embarked='S'),\n",
       " Row(Embarked='C'),\n",
       " Row(Embarked='S'),\n",
       " Row(Embarked='S'),\n",
       " Row(Embarked='C'),\n",
       " Row(Embarked='C'),\n",
       " Row(Embarked='S'),\n",
       " Row(Embarked='C'),\n",
       " Row(Embarked='S'),\n",
       " Row(Embarked='S'),\n",
       " Row(Embarked='S'),\n",
       " Row(Embarked='S'),\n",
       " Row(Embarked='S'),\n",
       " Row(Embarked='Q'),\n",
       " Row(Embarked='Q'),\n",
       " Row(Embarked='S'),\n",
       " Row(Embarked='S'),\n",
       " Row(Embarked='Q'),\n",
       " Row(Embarked='S'),\n",
       " Row(Embarked='C'),\n",
       " Row(Embarked='S'),\n",
       " Row(Embarked='C'),\n",
       " Row(Embarked='S'),\n",
       " Row(Embarked='S'),\n",
       " Row(Embarked='S'),\n",
       " Row(Embarked='S'),\n",
       " Row(Embarked='S'),\n",
       " Row(Embarked='S'),\n",
       " Row(Embarked='S'),\n",
       " Row(Embarked='S'),\n",
       " Row(Embarked='S'),\n",
       " Row(Embarked='S'),\n",
       " Row(Embarked='S'),\n",
       " Row(Embarked='S'),\n",
       " Row(Embarked='S'),\n",
       " Row(Embarked='S'),\n",
       " Row(Embarked='S'),\n",
       " Row(Embarked='S'),\n",
       " Row(Embarked='S'),\n",
       " Row(Embarked='C'),\n",
       " Row(Embarked='Q'),\n",
       " Row(Embarked='C'),\n",
       " Row(Embarked='S'),\n",
       " Row(Embarked='S'),\n",
       " Row(Embarked='S'),\n",
       " Row(Embarked='C'),\n",
       " Row(Embarked='S'),\n",
       " Row(Embarked='S'),\n",
       " Row(Embarked='S'),\n",
       " Row(Embarked='S'),\n",
       " Row(Embarked='S'),\n",
       " Row(Embarked='C'),\n",
       " Row(Embarked='S'),\n",
       " Row(Embarked='C'),\n",
       " Row(Embarked='S'),\n",
       " Row(Embarked='S'),\n",
       " Row(Embarked='S'),\n",
       " Row(Embarked='Q'),\n",
       " Row(Embarked='C'),\n",
       " Row(Embarked='S'),\n",
       " Row(Embarked='C'),\n",
       " Row(Embarked='S'),\n",
       " Row(Embarked='C'),\n",
       " Row(Embarked='Q'),\n",
       " Row(Embarked='S'),\n",
       " Row(Embarked='S'),\n",
       " Row(Embarked='S'),\n",
       " Row(Embarked='S'),\n",
       " Row(Embarked='S'),\n",
       " Row(Embarked='C'),\n",
       " Row(Embarked='C'),\n",
       " Row(Embarked='S'),\n",
       " Row(Embarked='S'),\n",
       " Row(Embarked='S'),\n",
       " Row(Embarked='S'),\n",
       " Row(Embarked='S'),\n",
       " Row(Embarked='C'),\n",
       " Row(Embarked='S'),\n",
       " Row(Embarked='Q'),\n",
       " Row(Embarked='S'),\n",
       " Row(Embarked='S'),\n",
       " Row(Embarked='S'),\n",
       " Row(Embarked='S'),\n",
       " Row(Embarked='S'),\n",
       " Row(Embarked='S'),\n",
       " Row(Embarked='S'),\n",
       " Row(Embarked='S'),\n",
       " Row(Embarked='Q'),\n",
       " Row(Embarked='S'),\n",
       " Row(Embarked='S'),\n",
       " Row(Embarked='S'),\n",
       " Row(Embarked='C'),\n",
       " Row(Embarked='S'),\n",
       " Row(Embarked='S'),\n",
       " Row(Embarked='S'),\n",
       " Row(Embarked='S'),\n",
       " Row(Embarked='S'),\n",
       " Row(Embarked='C'),\n",
       " Row(Embarked='S'),\n",
       " Row(Embarked='S'),\n",
       " Row(Embarked='S'),\n",
       " Row(Embarked='S'),\n",
       " Row(Embarked='C'),\n",
       " Row(Embarked='S'),\n",
       " Row(Embarked='S'),\n",
       " Row(Embarked='S'),\n",
       " Row(Embarked='S'),\n",
       " Row(Embarked='S'),\n",
       " Row(Embarked='S'),\n",
       " Row(Embarked='Q'),\n",
       " Row(Embarked='S'),\n",
       " Row(Embarked='S'),\n",
       " Row(Embarked='S'),\n",
       " Row(Embarked='S'),\n",
       " Row(Embarked='S'),\n",
       " Row(Embarked='S'),\n",
       " Row(Embarked='S'),\n",
       " Row(Embarked='S'),\n",
       " Row(Embarked='S'),\n",
       " Row(Embarked='S'),\n",
       " Row(Embarked='S'),\n",
       " Row(Embarked='S'),\n",
       " Row(Embarked='C'),\n",
       " Row(Embarked='S'),\n",
       " Row(Embarked='S'),\n",
       " Row(Embarked='S'),\n",
       " Row(Embarked='C'),\n",
       " Row(Embarked='Q'),\n",
       " Row(Embarked='Q'),\n",
       " Row(Embarked='S'),\n",
       " Row(Embarked='S'),\n",
       " Row(Embarked='S'),\n",
       " Row(Embarked='S'),\n",
       " Row(Embarked='C'),\n",
       " Row(Embarked='S'),\n",
       " Row(Embarked='S'),\n",
       " Row(Embarked='Q'),\n",
       " Row(Embarked='S'),\n",
       " Row(Embarked='Q'),\n",
       " Row(Embarked='S'),\n",
       " Row(Embarked='C'),\n",
       " Row(Embarked='S'),\n",
       " Row(Embarked='S'),\n",
       " Row(Embarked='S'),\n",
       " Row(Embarked='S'),\n",
       " Row(Embarked='S'),\n",
       " Row(Embarked='S'),\n",
       " Row(Embarked='Q'),\n",
       " Row(Embarked='S'),\n",
       " Row(Embarked='C'),\n",
       " Row(Embarked='Q'),\n",
       " Row(Embarked='S'),\n",
       " Row(Embarked='S'),\n",
       " Row(Embarked='C'),\n",
       " Row(Embarked='S'),\n",
       " Row(Embarked='S'),\n",
       " Row(Embarked='S'),\n",
       " Row(Embarked='S'),\n",
       " Row(Embarked='C'),\n",
       " Row(Embarked='S'),\n",
       " Row(Embarked='S'),\n",
       " Row(Embarked='S'),\n",
       " Row(Embarked='S'),\n",
       " Row(Embarked='C'),\n",
       " Row(Embarked='S'),\n",
       " Row(Embarked='S'),\n",
       " Row(Embarked='S'),\n",
       " Row(Embarked='S'),\n",
       " Row(Embarked='S'),\n",
       " Row(Embarked='S'),\n",
       " Row(Embarked='S'),\n",
       " Row(Embarked='S'),\n",
       " Row(Embarked='S'),\n",
       " Row(Embarked='S'),\n",
       " Row(Embarked='S'),\n",
       " Row(Embarked='S'),\n",
       " Row(Embarked='S'),\n",
       " Row(Embarked='C'),\n",
       " Row(Embarked='S'),\n",
       " Row(Embarked='S'),\n",
       " Row(Embarked='S'),\n",
       " Row(Embarked='S'),\n",
       " Row(Embarked='S'),\n",
       " Row(Embarked='S'),\n",
       " Row(Embarked='S'),\n",
       " Row(Embarked='Q'),\n",
       " Row(Embarked='S'),\n",
       " Row(Embarked='C'),\n",
       " Row(Embarked='Q'),\n",
       " Row(Embarked=None),\n",
       " Row(Embarked='C'),\n",
       " Row(Embarked='S'),\n",
       " Row(Embarked='C'),\n",
       " Row(Embarked='S'),\n",
       " Row(Embarked='S'),\n",
       " Row(Embarked='C'),\n",
       " Row(Embarked='S'),\n",
       " Row(Embarked='S'),\n",
       " Row(Embarked='S'),\n",
       " Row(Embarked='C'),\n",
       " Row(Embarked='S'),\n",
       " Row(Embarked='S'),\n",
       " Row(Embarked='C'),\n",
       " Row(Embarked='C'),\n",
       " Row(Embarked='S'),\n",
       " Row(Embarked='S'),\n",
       " Row(Embarked='S'),\n",
       " Row(Embarked='C'),\n",
       " Row(Embarked='S'),\n",
       " Row(Embarked='C'),\n",
       " Row(Embarked='S'),\n",
       " Row(Embarked='S'),\n",
       " Row(Embarked='C'),\n",
       " Row(Embarked='S'),\n",
       " Row(Embarked='S'),\n",
       " Row(Embarked='S'),\n",
       " Row(Embarked='S'),\n",
       " Row(Embarked='S'),\n",
       " Row(Embarked='C'),\n",
       " Row(Embarked='C'),\n",
       " Row(Embarked='S'),\n",
       " Row(Embarked='S'),\n",
       " Row(Embarked='S'),\n",
       " Row(Embarked='S'),\n",
       " Row(Embarked='S'),\n",
       " Row(Embarked='S'),\n",
       " Row(Embarked='C'),\n",
       " Row(Embarked='S'),\n",
       " Row(Embarked='S'),\n",
       " Row(Embarked='S'),\n",
       " Row(Embarked='S'),\n",
       " Row(Embarked='S'),\n",
       " Row(Embarked='S'),\n",
       " Row(Embarked='S'),\n",
       " Row(Embarked='C'),\n",
       " Row(Embarked='C'),\n",
       " Row(Embarked='S'),\n",
       " Row(Embarked='S'),\n",
       " Row(Embarked='S'),\n",
       " Row(Embarked='C'),\n",
       " Row(Embarked='S'),\n",
       " Row(Embarked='S'),\n",
       " Row(Embarked='S'),\n",
       " Row(Embarked='S'),\n",
       " Row(Embarked='S'),\n",
       " Row(Embarked='Q'),\n",
       " Row(Embarked='S'),\n",
       " Row(Embarked='S'),\n",
       " Row(Embarked='S'),\n",
       " Row(Embarked='C'),\n",
       " Row(Embarked='Q')]"
      ]
     },
     "execution_count": 5,
     "metadata": {},
     "output_type": "execute_result"
    }
   ],
   "source": [
    "trainDF.select(['Embarked']).collect()"
   ]
  },
  {
   "cell_type": "code",
   "execution_count": 6,
   "metadata": {},
   "outputs": [
    {
     "name": "stdout",
     "output_type": "stream",
     "text": [
      "+--------+\n",
      "|Embarked|\n",
      "+--------+\n",
      "|       S|\n",
      "|       C|\n",
      "|       S|\n",
      "|       S|\n",
      "|       S|\n",
      "|       Q|\n",
      "|       S|\n",
      "|       S|\n",
      "|       S|\n",
      "|       C|\n",
      "|       S|\n",
      "|       S|\n",
      "|       S|\n",
      "|       S|\n",
      "|       S|\n",
      "|       S|\n",
      "|       Q|\n",
      "|       S|\n",
      "|       S|\n",
      "|       C|\n",
      "+--------+\n",
      "only showing top 20 rows\n",
      "\n"
     ]
    }
   ],
   "source": [
    "trainDF.select(['Embarked']).show()"
   ]
  },
  {
   "cell_type": "code",
   "execution_count": 7,
   "metadata": {
    "collapsed": true
   },
   "outputs": [],
   "source": [
    "trainDF = trainDF.withColumn('Mark', lit('train'))"
   ]
  },
  {
   "cell_type": "code",
   "execution_count": 8,
   "metadata": {},
   "outputs": [
    {
     "name": "stdout",
     "output_type": "stream",
     "text": [
      "+-----------+--------+------+--------------------+------+----+-----+-----+----------------+-------+-----+--------+-----+\n",
      "|PassengerId|Survived|Pclass|                Name|   Sex| Age|SibSp|Parch|          Ticket|   Fare|Cabin|Embarked| Mark|\n",
      "+-----------+--------+------+--------------------+------+----+-----+-----+----------------+-------+-----+--------+-----+\n",
      "|          1|       0|     3|Braund, Mr. Owen ...|  male|  22|    1|    0|       A/5 21171|   7.25| null|       S|train|\n",
      "|          2|       1|     1|Cumings, Mrs. Joh...|female|  38|    1|    0|        PC 17599|71.2833|  C85|       C|train|\n",
      "|          3|       1|     3|Heikkinen, Miss. ...|female|  26|    0|    0|STON/O2. 3101282|  7.925| null|       S|train|\n",
      "|          4|       1|     1|Futrelle, Mrs. Ja...|female|  35|    1|    0|          113803|   53.1| C123|       S|train|\n",
      "|          5|       0|     3|Allen, Mr. Willia...|  male|  35|    0|    0|          373450|   8.05| null|       S|train|\n",
      "|          6|       0|     3|    Moran, Mr. James|  male|null|    0|    0|          330877| 8.4583| null|       Q|train|\n",
      "|          7|       0|     1|McCarthy, Mr. Tim...|  male|  54|    0|    0|           17463|51.8625|  E46|       S|train|\n",
      "|          8|       0|     3|Palsson, Master. ...|  male|   2|    3|    1|          349909| 21.075| null|       S|train|\n",
      "|          9|       1|     3|Johnson, Mrs. Osc...|female|  27|    0|    2|          347742|11.1333| null|       S|train|\n",
      "|         10|       1|     2|Nasser, Mrs. Nich...|female|  14|    1|    0|          237736|30.0708| null|       C|train|\n",
      "|         11|       1|     3|Sandstrom, Miss. ...|female|   4|    1|    1|         PP 9549|   16.7|   G6|       S|train|\n",
      "|         12|       1|     1|Bonnell, Miss. El...|female|  58|    0|    0|          113783|  26.55| C103|       S|train|\n",
      "|         13|       0|     3|Saundercock, Mr. ...|  male|  20|    0|    0|       A/5. 2151|   8.05| null|       S|train|\n",
      "|         14|       0|     3|Andersson, Mr. An...|  male|  39|    1|    5|          347082| 31.275| null|       S|train|\n",
      "|         15|       0|     3|Vestrom, Miss. Hu...|female|  14|    0|    0|          350406| 7.8542| null|       S|train|\n",
      "|         16|       1|     2|Hewlett, Mrs. (Ma...|female|  55|    0|    0|          248706|     16| null|       S|train|\n",
      "|         17|       0|     3|Rice, Master. Eugene|  male|   2|    4|    1|          382652| 29.125| null|       Q|train|\n",
      "|         18|       1|     2|Williams, Mr. Cha...|  male|null|    0|    0|          244373|     13| null|       S|train|\n",
      "|         19|       0|     3|Vander Planke, Mr...|female|  31|    1|    0|          345763|     18| null|       S|train|\n",
      "|         20|       1|     3|Masselmani, Mrs. ...|female|null|    0|    0|            2649|  7.225| null|       C|train|\n",
      "+-----------+--------+------+--------------------+------+----+-----+-----+----------------+-------+-----+--------+-----+\n",
      "only showing top 20 rows\n",
      "\n"
     ]
    }
   ],
   "source": [
    "trainDF.show()"
   ]
  },
  {
   "cell_type": "code",
   "execution_count": 9,
   "metadata": {},
   "outputs": [
    {
     "name": "stdout",
     "output_type": "stream",
     "text": [
      "+-----+\n",
      "| Mark|\n",
      "+-----+\n",
      "|train|\n",
      "|train|\n",
      "|train|\n",
      "|train|\n",
      "|train|\n",
      "|train|\n",
      "|train|\n",
      "|train|\n",
      "|train|\n",
      "|train|\n",
      "|train|\n",
      "|train|\n",
      "|train|\n",
      "|train|\n",
      "|train|\n",
      "|train|\n",
      "|train|\n",
      "|train|\n",
      "|train|\n",
      "|train|\n",
      "+-----+\n",
      "only showing top 20 rows\n",
      "\n"
     ]
    }
   ],
   "source": [
    "trainDF.select(['Mark']).show()"
   ]
  },
  {
   "cell_type": "code",
   "execution_count": 10,
   "metadata": {
    "collapsed": true
   },
   "outputs": [],
   "source": [
    "## Add Survived column to test, and dataset name as a column\n",
    "testDF = (testDF.withColumn('Survived',lit(0))\n",
    "                .withColumn('Mark', lit('test')))\n",
    "testDF = testDF[trainDF.columns]\n",
    "\n",
    "## Append Test data to Train data\n",
    "df = trainDF.unionAll(testDF)"
   ]
  },
  {
   "cell_type": "code",
   "execution_count": 11,
   "metadata": {},
   "outputs": [
    {
     "name": "stdout",
     "output_type": "stream",
     "text": [
      "+-----------+--------+------+--------------------+------+----+-----+-----+----------------+-------+-----+--------+----+\n",
      "|PassengerId|Survived|Pclass|                Name|   Sex| Age|SibSp|Parch|          Ticket|   Fare|Cabin|Embarked|Mark|\n",
      "+-----------+--------+------+--------------------+------+----+-----+-----+----------------+-------+-----+--------+----+\n",
      "|        892|       0|     3|    Kelly, Mr. James|  male|34.5|    0|    0|          330911| 7.8292| null|       Q|test|\n",
      "|        893|       0|     3|Wilkes, Mrs. Jame...|female|  47|    1|    0|          363272|      7| null|       S|test|\n",
      "|        894|       0|     2|Myles, Mr. Thomas...|  male|  62|    0|    0|          240276| 9.6875| null|       Q|test|\n",
      "|        895|       0|     3|    Wirz, Mr. Albert|  male|  27|    0|    0|          315154| 8.6625| null|       S|test|\n",
      "|        896|       0|     3|Hirvonen, Mrs. Al...|female|  22|    1|    1|         3101298|12.2875| null|       S|test|\n",
      "|        897|       0|     3|Svensson, Mr. Joh...|  male|  14|    0|    0|            7538|  9.225| null|       S|test|\n",
      "|        898|       0|     3|Connolly, Miss. Kate|female|  30|    0|    0|          330972| 7.6292| null|       Q|test|\n",
      "|        899|       0|     2|Caldwell, Mr. Alb...|  male|  26|    1|    1|          248738|     29| null|       S|test|\n",
      "|        900|       0|     3|Abrahim, Mrs. Jos...|female|  18|    0|    0|            2657| 7.2292| null|       C|test|\n",
      "|        901|       0|     3|Davies, Mr. John ...|  male|  21|    2|    0|       A/4 48871|  24.15| null|       S|test|\n",
      "|        902|       0|     3|    Ilieff, Mr. Ylio|  male|null|    0|    0|          349220| 7.8958| null|       S|test|\n",
      "|        903|       0|     1|Jones, Mr. Charle...|  male|  46|    0|    0|             694|     26| null|       S|test|\n",
      "|        904|       0|     1|Snyder, Mrs. John...|female|  23|    1|    0|           21228|82.2667|  B45|       S|test|\n",
      "|        905|       0|     2|Howard, Mr. Benjamin|  male|  63|    1|    0|           24065|     26| null|       S|test|\n",
      "|        906|       0|     1|Chaffee, Mrs. Her...|female|  47|    1|    0|     W.E.P. 5734| 61.175|  E31|       S|test|\n",
      "|        907|       0|     2|del Carlo, Mrs. S...|female|  24|    1|    0|   SC/PARIS 2167|27.7208| null|       C|test|\n",
      "|        908|       0|     2|   Keane, Mr. Daniel|  male|  35|    0|    0|          233734|  12.35| null|       Q|test|\n",
      "|        909|       0|     3|   Assaf, Mr. Gerios|  male|  21|    0|    0|            2692|  7.225| null|       C|test|\n",
      "|        910|       0|     3|Ilmakangas, Miss....|female|  27|    1|    0|STON/O2. 3101270|  7.925| null|       S|test|\n",
      "|        911|       0|     3|\"Assaf Khalil, Mr...|female|  45|    0|    0|            2696|  7.225| null|       C|test|\n",
      "+-----------+--------+------+--------------------+------+----+-----+-----+----------------+-------+-----+--------+----+\n",
      "only showing top 20 rows\n",
      "\n"
     ]
    }
   ],
   "source": [
    "testDF.show()"
   ]
  },
  {
   "cell_type": "code",
   "execution_count": 12,
   "metadata": {
    "collapsed": true
   },
   "outputs": [],
   "source": [
    "df.createOrReplaceTempView(\"train\")"
   ]
  },
  {
   "cell_type": "markdown",
   "metadata": {},
   "source": [
    "# Steps in a Machine Learning Workflow"
   ]
  },
  {
   "cell_type": "markdown",
   "metadata": {},
   "source": [
    "* Data Collection\n",
    "* Data Preprocessing\n",
    "* Feature Engineering\n",
    "* Data format translation\n",
    "* Modeling\n",
    "* Evaluation and Selection"
   ]
  },
  {
   "cell_type": "markdown",
   "metadata": {},
   "source": [
    "## Data Collection"
   ]
  },
  {
   "cell_type": "markdown",
   "metadata": {},
   "source": [
    "* Combiniing Datasets"
   ]
  },
  {
   "cell_type": "markdown",
   "metadata": {},
   "source": [
    "## Data Preprocessing"
   ]
  },
  {
   "cell_type": "markdown",
   "metadata": {},
   "source": [
    "### Exploratory Data Analysis"
   ]
  },
  {
   "cell_type": "markdown",
   "metadata": {},
   "source": [
    "* Statistical Summary\n",
    "* Histograms\n",
    "* Correlations"
   ]
  },
  {
   "cell_type": "markdown",
   "metadata": {},
   "source": [
    "#### What is the schema?"
   ]
  },
  {
   "cell_type": "code",
   "execution_count": 13,
   "metadata": {},
   "outputs": [
    {
     "data": {
      "text/plain": [
       "['PassengerId',\n",
       " 'Survived',\n",
       " 'Pclass',\n",
       " 'Name',\n",
       " 'Sex',\n",
       " 'Age',\n",
       " 'SibSp',\n",
       " 'Parch',\n",
       " 'Ticket',\n",
       " 'Fare',\n",
       " 'Cabin',\n",
       " 'Embarked',\n",
       " 'Mark']"
      ]
     },
     "execution_count": 13,
     "metadata": {},
     "output_type": "execute_result"
    }
   ],
   "source": [
    "df.columns"
   ]
  },
  {
   "cell_type": "code",
   "execution_count": 14,
   "metadata": {},
   "outputs": [
    {
     "name": "stdout",
     "output_type": "stream",
     "text": [
      "root\n",
      " |-- PassengerId: string (nullable = true)\n",
      " |-- Survived: string (nullable = true)\n",
      " |-- Pclass: string (nullable = true)\n",
      " |-- Name: string (nullable = true)\n",
      " |-- Sex: string (nullable = true)\n",
      " |-- Age: string (nullable = true)\n",
      " |-- SibSp: string (nullable = true)\n",
      " |-- Parch: string (nullable = true)\n",
      " |-- Ticket: string (nullable = true)\n",
      " |-- Fare: string (nullable = true)\n",
      " |-- Cabin: string (nullable = true)\n",
      " |-- Embarked: string (nullable = true)\n",
      " |-- Mark: string (nullable = false)\n",
      "\n"
     ]
    }
   ],
   "source": [
    "df.printSchema()"
   ]
  },
  {
   "cell_type": "markdown",
   "metadata": {},
   "source": [
    "#### Which ones are numeric?"
   ]
  },
  {
   "cell_type": "code",
   "execution_count": 15,
   "metadata": {},
   "outputs": [
    {
     "name": "stdout",
     "output_type": "stream",
     "text": [
      "+-----------+--------+------+--------------------+------+---+-----+-----+----------------+-------+-----+--------+-----+\n",
      "|PassengerId|Survived|Pclass|                Name|   Sex|Age|SibSp|Parch|          Ticket|   Fare|Cabin|Embarked| Mark|\n",
      "+-----------+--------+------+--------------------+------+---+-----+-----+----------------+-------+-----+--------+-----+\n",
      "|          1|       0|     3|Braund, Mr. Owen ...|  male| 22|    1|    0|       A/5 21171|   7.25| null|       S|train|\n",
      "|          2|       1|     1|Cumings, Mrs. Joh...|female| 38|    1|    0|        PC 17599|71.2833|  C85|       C|train|\n",
      "|          3|       1|     3|Heikkinen, Miss. ...|female| 26|    0|    0|STON/O2. 3101282|  7.925| null|       S|train|\n",
      "|          4|       1|     1|Futrelle, Mrs. Ja...|female| 35|    1|    0|          113803|   53.1| C123|       S|train|\n",
      "|          5|       0|     3|Allen, Mr. Willia...|  male| 35|    0|    0|          373450|   8.05| null|       S|train|\n",
      "+-----------+--------+------+--------------------+------+---+-----+-----+----------------+-------+-----+--------+-----+\n",
      "only showing top 5 rows\n",
      "\n"
     ]
    }
   ],
   "source": [
    "df.show(5)"
   ]
  },
  {
   "cell_type": "markdown",
   "metadata": {},
   "source": [
    "Here are the variables which should be numeric (float or integer):\n",
    "\n",
    "* PassengerId: Integer\n",
    "* Pclass: Integer\n",
    "* SibSp: Integer\n",
    "* Parch: Integer\n",
    "* Survived: Integer\n",
    "* Age: Float\n",
    "* Fare: Float"
   ]
  },
  {
   "cell_type": "code",
   "execution_count": 16,
   "metadata": {
    "collapsed": true
   },
   "outputs": [],
   "source": [
    "# Here is an example\n",
    "df = df.withColumn(\"AgeTmp\", df[\"Age\"].cast(\"float\")) \\\n",
    "    .drop(\"Age\") \\\n",
    "    .withColumnRenamed(\"AgeTmp\", \"Age\")"
   ]
  },
  {
   "cell_type": "code",
   "execution_count": 17,
   "metadata": {},
   "outputs": [
    {
     "name": "stdout",
     "output_type": "stream",
     "text": [
      "+-----------+--------+------+--------------------+------+-----+-----+----------------+-------+-----+--------+-----+----+\n",
      "|PassengerId|Survived|Pclass|                Name|   Sex|SibSp|Parch|          Ticket|   Fare|Cabin|Embarked| Mark| Age|\n",
      "+-----------+--------+------+--------------------+------+-----+-----+----------------+-------+-----+--------+-----+----+\n",
      "|          1|       0|     3|Braund, Mr. Owen ...|  male|    1|    0|       A/5 21171|   7.25| null|       S|train|22.0|\n",
      "|          2|       1|     1|Cumings, Mrs. Joh...|female|    1|    0|        PC 17599|71.2833|  C85|       C|train|38.0|\n",
      "|          3|       1|     3|Heikkinen, Miss. ...|female|    0|    0|STON/O2. 3101282|  7.925| null|       S|train|26.0|\n",
      "|          4|       1|     1|Futrelle, Mrs. Ja...|female|    1|    0|          113803|   53.1| C123|       S|train|35.0|\n",
      "|          5|       0|     3|Allen, Mr. Willia...|  male|    0|    0|          373450|   8.05| null|       S|train|35.0|\n",
      "+-----------+--------+------+--------------------+------+-----+-----+----------------+-------+-----+--------+-----+----+\n",
      "only showing top 5 rows\n",
      "\n"
     ]
    }
   ],
   "source": [
    "df.show(5)"
   ]
  },
  {
   "cell_type": "code",
   "execution_count": 18,
   "metadata": {
    "collapsed": true
   },
   "outputs": [],
   "source": [
    "# Let's define function\n",
    "def to_anytype(df, colnames, typename):\n",
    "    for colname in colnames:\n",
    "        df = df.withColumn(\"tmp\", df[colname].cast(typename)) \\\n",
    "        .drop(colname) \\\n",
    "        .withColumnRenamed(\"tmp\", colname)\n",
    "    return(df)"
   ]
  },
  {
   "cell_type": "code",
   "execution_count": 19,
   "metadata": {
    "collapsed": true
   },
   "outputs": [],
   "source": [
    "intCols = ['PassengerId', 'Pclass', 'SibSp', 'Parch', 'Survived']\n",
    "floatCols = ['Age', 'Fare']\n",
    "\n",
    "df = to_anytype(df, intCols, \"integer\")\n",
    "df = to_anytype(df, floatCols, \"float\")"
   ]
  },
  {
   "cell_type": "code",
   "execution_count": 21,
   "metadata": {},
   "outputs": [
    {
     "name": "stdout",
     "output_type": "stream",
     "text": [
      "+--------------------+------+----------------+-----+--------+-----+-----------+------+-----+-----+--------+----+-------+\n",
      "|                Name|   Sex|          Ticket|Cabin|Embarked| Mark|PassengerId|Pclass|SibSp|Parch|Survived| Age|   Fare|\n",
      "+--------------------+------+----------------+-----+--------+-----+-----------+------+-----+-----+--------+----+-------+\n",
      "|Braund, Mr. Owen ...|  male|       A/5 21171| null|       S|train|          1|     3|    1|    0|       0|22.0|   7.25|\n",
      "|Cumings, Mrs. Joh...|female|        PC 17599|  C85|       C|train|          2|     1|    1|    0|       1|38.0|71.2833|\n",
      "|Heikkinen, Miss. ...|female|STON/O2. 3101282| null|       S|train|          3|     3|    0|    0|       1|26.0|  7.925|\n",
      "|Futrelle, Mrs. Ja...|female|          113803| C123|       S|train|          4|     1|    1|    0|       1|35.0|   53.1|\n",
      "|Allen, Mr. Willia...|  male|          373450| null|       S|train|          5|     3|    0|    0|       0|35.0|   8.05|\n",
      "|    Moran, Mr. James|  male|          330877| null|       Q|train|          6|     3|    0|    0|       0|null| 8.4583|\n",
      "|McCarthy, Mr. Tim...|  male|           17463|  E46|       S|train|          7|     1|    0|    0|       0|54.0|51.8625|\n",
      "|Palsson, Master. ...|  male|          349909| null|       S|train|          8|     3|    3|    1|       0| 2.0| 21.075|\n",
      "|Johnson, Mrs. Osc...|female|          347742| null|       S|train|          9|     3|    0|    2|       1|27.0|11.1333|\n",
      "|Nasser, Mrs. Nich...|female|          237736| null|       C|train|         10|     2|    1|    0|       1|14.0|30.0708|\n",
      "|Sandstrom, Miss. ...|female|         PP 9549|   G6|       S|train|         11|     3|    1|    1|       1| 4.0|   16.7|\n",
      "|Bonnell, Miss. El...|female|          113783| C103|       S|train|         12|     1|    0|    0|       1|58.0|  26.55|\n",
      "|Saundercock, Mr. ...|  male|       A/5. 2151| null|       S|train|         13|     3|    0|    0|       0|20.0|   8.05|\n",
      "|Andersson, Mr. An...|  male|          347082| null|       S|train|         14|     3|    1|    5|       0|39.0| 31.275|\n",
      "|Vestrom, Miss. Hu...|female|          350406| null|       S|train|         15|     3|    0|    0|       0|14.0| 7.8542|\n",
      "|Hewlett, Mrs. (Ma...|female|          248706| null|       S|train|         16|     2|    0|    0|       1|55.0|   16.0|\n",
      "|Rice, Master. Eugene|  male|          382652| null|       Q|train|         17|     3|    4|    1|       0| 2.0| 29.125|\n",
      "|Williams, Mr. Cha...|  male|          244373| null|       S|train|         18|     2|    0|    0|       1|null|   13.0|\n",
      "|Vander Planke, Mr...|female|          345763| null|       S|train|         19|     3|    1|    0|       0|31.0|   18.0|\n",
      "|Masselmani, Mrs. ...|female|            2649| null|       C|train|         20|     3|    0|    0|       1|null|  7.225|\n",
      "+--------------------+------+----------------+-----+--------+-----+-----------+------+-----+-----+--------+----+-------+\n",
      "only showing top 20 rows\n",
      "\n"
     ]
    }
   ],
   "source": [
    "df.show()"
   ]
  },
  {
   "cell_type": "code",
   "execution_count": 22,
   "metadata": {},
   "outputs": [
    {
     "name": "stdout",
     "output_type": "stream",
     "text": [
      "root\n",
      " |-- Name: string (nullable = true)\n",
      " |-- Sex: string (nullable = true)\n",
      " |-- Ticket: string (nullable = true)\n",
      " |-- Cabin: string (nullable = true)\n",
      " |-- Embarked: string (nullable = true)\n",
      " |-- Mark: string (nullable = false)\n",
      " |-- PassengerId: integer (nullable = true)\n",
      " |-- Pclass: integer (nullable = true)\n",
      " |-- SibSp: integer (nullable = true)\n",
      " |-- Parch: integer (nullable = true)\n",
      " |-- Survived: integer (nullable = true)\n",
      " |-- Age: float (nullable = true)\n",
      " |-- Fare: float (nullable = true)\n",
      "\n"
     ]
    }
   ],
   "source": [
    "df.printSchema()"
   ]
  },
  {
   "cell_type": "markdown",
   "metadata": {},
   "source": [
    "#### Let's inspect data"
   ]
  },
  {
   "cell_type": "code",
   "execution_count": 23,
   "metadata": {},
   "outputs": [
    {
     "data": {
      "text/plain": [
       "[Row(Name='Braund, Mr. Owen Harris', Sex='male', Ticket='A/5 21171', Cabin=None, Embarked='S', Mark='train', PassengerId=1, Pclass=3, SibSp=1, Parch=0, Survived=0, Age=22.0, Fare=7.25),\n",
       " Row(Name='Cumings, Mrs. John Bradley (Florence Briggs Thayer)', Sex='female', Ticket='PC 17599', Cabin='C85', Embarked='C', Mark='train', PassengerId=2, Pclass=1, SibSp=1, Parch=0, Survived=1, Age=38.0, Fare=71.2833023071289),\n",
       " Row(Name='Heikkinen, Miss. Laina', Sex='female', Ticket='STON/O2. 3101282', Cabin=None, Embarked='S', Mark='train', PassengerId=3, Pclass=3, SibSp=0, Parch=0, Survived=1, Age=26.0, Fare=7.925000190734863),\n",
       " Row(Name='Futrelle, Mrs. Jacques Heath (Lily May Peel)', Sex='female', Ticket='113803', Cabin='C123', Embarked='S', Mark='train', PassengerId=4, Pclass=1, SibSp=1, Parch=0, Survived=1, Age=35.0, Fare=53.099998474121094),\n",
       " Row(Name='Allen, Mr. William Henry', Sex='male', Ticket='373450', Cabin=None, Embarked='S', Mark='train', PassengerId=5, Pclass=3, SibSp=0, Parch=0, Survived=0, Age=35.0, Fare=8.050000190734863)]"
      ]
     },
     "execution_count": 23,
     "metadata": {},
     "output_type": "execute_result"
    }
   ],
   "source": [
    "df.take(5)"
   ]
  },
  {
   "cell_type": "code",
   "execution_count": 24,
   "metadata": {},
   "outputs": [
    {
     "name": "stdout",
     "output_type": "stream",
     "text": [
      "+--------------------+------+----------------+-----+--------+-----+-----------+------+-----+-----+--------+----+-------+\n",
      "|                Name|   Sex|          Ticket|Cabin|Embarked| Mark|PassengerId|Pclass|SibSp|Parch|Survived| Age|   Fare|\n",
      "+--------------------+------+----------------+-----+--------+-----+-----------+------+-----+-----+--------+----+-------+\n",
      "|Braund, Mr. Owen ...|  male|       A/5 21171| null|       S|train|          1|     3|    1|    0|       0|22.0|   7.25|\n",
      "|Cumings, Mrs. Joh...|female|        PC 17599|  C85|       C|train|          2|     1|    1|    0|       1|38.0|71.2833|\n",
      "|Heikkinen, Miss. ...|female|STON/O2. 3101282| null|       S|train|          3|     3|    0|    0|       1|26.0|  7.925|\n",
      "|Futrelle, Mrs. Ja...|female|          113803| C123|       S|train|          4|     1|    1|    0|       1|35.0|   53.1|\n",
      "|Allen, Mr. Willia...|  male|          373450| null|       S|train|          5|     3|    0|    0|       0|35.0|   8.05|\n",
      "+--------------------+------+----------------+-----+--------+-----+-----------+------+-----+-----+--------+----+-------+\n",
      "only showing top 5 rows\n",
      "\n"
     ]
    }
   ],
   "source": [
    "df.show(5)"
   ]
  },
  {
   "cell_type": "markdown",
   "metadata": {},
   "source": [
    "#### Statistical Summary"
   ]
  },
  {
   "cell_type": "code",
   "execution_count": 25,
   "metadata": {},
   "outputs": [
    {
     "name": "stdout",
     "output_type": "stream",
     "text": [
      "+-------+------------------+\n",
      "|summary|               Age|\n",
      "+-------+------------------+\n",
      "|  count|              1046|\n",
      "|   mean|29.881137667305726|\n",
      "| stddev|14.413493211267733|\n",
      "|    min|              0.17|\n",
      "|    max|              80.0|\n",
      "+-------+------------------+\n",
      "\n"
     ]
    }
   ],
   "source": [
    "df.describe('Age').show()"
   ]
  },
  {
   "cell_type": "code",
   "execution_count": 26,
   "metadata": {},
   "outputs": [
    {
     "name": "stdout",
     "output_type": "stream",
     "text": [
      "+-------+------------------+--------------------+\n",
      "|summary|               Age|                Name|\n",
      "+-------+------------------+--------------------+\n",
      "|  count|              1046|                1309|\n",
      "|   mean|29.881137667305726|                null|\n",
      "| stddev|14.413493211267733|                null|\n",
      "|    min|              0.17|\"Andersson, Mr. A...|\n",
      "|    max|              80.0|van Melkebeke, Mr...|\n",
      "+-------+------------------+--------------------+\n",
      "\n"
     ]
    }
   ],
   "source": [
    "df.describe(['Age', 'Name']).show()"
   ]
  },
  {
   "cell_type": "code",
   "execution_count": 27,
   "metadata": {},
   "outputs": [
    {
     "name": "stdout",
     "output_type": "stream",
     "text": [
      "+-------+-----------------+-------------------+------------------+--------------------+------+------------------+------------------+------------------+------------------+-----------------+-----+--------+-----+\n",
      "|summary|      PassengerId|           Survived|            Pclass|                Name|   Sex|               Age|             SibSp|             Parch|            Ticket|             Fare|Cabin|Embarked| Mark|\n",
      "+-------+-----------------+-------------------+------------------+--------------------+------+------------------+------------------+------------------+------------------+-----------------+-----+--------+-----+\n",
      "|  count|             1309|               1309|              1309|                1309|  1309|              1046|              1309|              1309|              1309|             1308|  295|    1307| 1309|\n",
      "|   mean|            655.0| 0.2612681436210848| 2.294881588999236|                null|  null|29.881137667305726|0.4988540870893812|0.3850267379679144| 249039.1368861024|33.29547938203228| null|    null| null|\n",
      "| stddev|378.0200611960517|0.43949364010802755|0.8378360189701275|                null|  null|14.413493211267733|1.0416583905961019|0.8655602753495152|442685.31767656433|51.75866881037215| null|    null| null|\n",
      "|    min|                1|                  0|                 1|\"Andersson, Mr. A...|female|              0.17|                 0|                 0|            110152|              0.0|  A10|       C| test|\n",
      "|    max|             1309|                  1|                 3|van Melkebeke, Mr...|  male|              80.0|                 8|                 9|         WE/P 5735|         512.3292|    T|       S|train|\n",
      "+-------+-----------------+-------------------+------------------+--------------------+------+------------------+------------------+------------------+------------------+-----------------+-----+--------+-----+\n",
      "\n"
     ]
    }
   ],
   "source": [
    "df.describe(trainDF.columns).show()"
   ]
  },
  {
   "cell_type": "code",
   "execution_count": 28,
   "metadata": {},
   "outputs": [
    {
     "name": "stdout",
     "output_type": "stream",
     "text": [
      "+-------+-------------------+------------------+--------------------+\n",
      "|summary|           Survived|            Pclass|                Name|\n",
      "+-------+-------------------+------------------+--------------------+\n",
      "|  count|               1309|              1309|                1309|\n",
      "|   mean| 0.2612681436210848| 2.294881588999236|                null|\n",
      "| stddev|0.43949364010802755|0.8378360189701275|                null|\n",
      "|    min|                  0|                 1|\"Andersson, Mr. A...|\n",
      "|    max|                  1|                 3|van Melkebeke, Mr...|\n",
      "+-------+-------------------+------------------+--------------------+\n",
      "\n"
     ]
    }
   ],
   "source": [
    "df.describe(trainDF.columns[1:4]).show()"
   ]
  },
  {
   "cell_type": "code",
   "execution_count": 29,
   "metadata": {},
   "outputs": [
    {
     "name": "stdout",
     "output_type": "stream",
     "text": [
      "+-------+------------------+------------------+------------------+\n",
      "|summary|               Age|             SibSp|             Parch|\n",
      "+-------+------------------+------------------+------------------+\n",
      "|  count|              1046|              1309|              1309|\n",
      "|   mean|29.881137667305726|0.4988540870893812|0.3850267379679144|\n",
      "| stddev|14.413493211267733|1.0416583905961019|0.8655602753495152|\n",
      "|    min|              0.17|                 0|                 0|\n",
      "|    max|              80.0|                 8|                 9|\n",
      "+-------+------------------+------------------+------------------+\n",
      "\n"
     ]
    }
   ],
   "source": [
    "df.describe(trainDF.columns[5:8]).show()"
   ]
  },
  {
   "cell_type": "code",
   "execution_count": 30,
   "metadata": {},
   "outputs": [
    {
     "name": "stdout",
     "output_type": "stream",
     "text": [
      "+-------+-----------------+-----+--------+\n",
      "|summary|             Fare|Cabin|Embarked|\n",
      "+-------+-----------------+-----+--------+\n",
      "|  count|             1308|  295|    1307|\n",
      "|   mean|33.29547938203228| null|    null|\n",
      "| stddev|51.75866881037215| null|    null|\n",
      "|    min|              0.0|  A10|       C|\n",
      "|    max|         512.3292|    T|       S|\n",
      "+-------+-----------------+-----+--------+\n",
      "\n"
     ]
    }
   ],
   "source": [
    "df.describe(trainDF.columns[9:12]).show()"
   ]
  },
  {
   "cell_type": "markdown",
   "metadata": {},
   "source": [
    "#### Histograms"
   ]
  },
  {
   "cell_type": "markdown",
   "metadata": {},
   "source": [
    "* We need the frequency count of various levels"
   ]
  },
  {
   "cell_type": "code",
   "execution_count": 31,
   "metadata": {},
   "outputs": [
    {
     "name": "stdout",
     "output_type": "stream",
     "text": [
      "+----+-----+\n",
      "| age|count|\n",
      "+----+-----+\n",
      "|null|  263|\n",
      "|0.17|    1|\n",
      "|0.33|    1|\n",
      "|0.42|    1|\n",
      "|0.67|    1|\n",
      "|0.75|    3|\n",
      "|0.83|    3|\n",
      "|0.92|    2|\n",
      "|   1|   10|\n",
      "|  10|    4|\n",
      "|  11|    4|\n",
      "|11.5|    1|\n",
      "|  12|    3|\n",
      "|  13|    5|\n",
      "|  14|    8|\n",
      "|14.5|    2|\n",
      "|  15|    6|\n",
      "|  16|   19|\n",
      "|  17|   20|\n",
      "|  18|   39|\n",
      "|18.5|    3|\n",
      "|  19|   29|\n",
      "|   2|   12|\n",
      "|  20|   23|\n",
      "|20.5|    1|\n",
      "|  21|   41|\n",
      "|  22|   43|\n",
      "|22.5|    1|\n",
      "|  23|   26|\n",
      "|23.5|    1|\n",
      "|  24|   47|\n",
      "|24.5|    1|\n",
      "|  25|   34|\n",
      "|  26|   30|\n",
      "|26.5|    1|\n",
      "|  27|   30|\n",
      "|  28|   32|\n",
      "|28.5|    3|\n",
      "|  29|   30|\n",
      "|   3|    7|\n",
      "|  30|   40|\n",
      "|30.5|    2|\n",
      "|  31|   23|\n",
      "|  32|   24|\n",
      "|32.5|    4|\n",
      "|  33|   21|\n",
      "|  34|   16|\n",
      "|34.5|    2|\n",
      "|  35|   23|\n",
      "|  36|   31|\n",
      "|36.5|    2|\n",
      "|  37|    9|\n",
      "|  38|   14|\n",
      "|38.5|    1|\n",
      "|  39|   20|\n",
      "|   4|   10|\n",
      "|  40|   18|\n",
      "|40.5|    3|\n",
      "|  41|   11|\n",
      "|  42|   18|\n",
      "|  43|    9|\n",
      "|  44|   10|\n",
      "|  45|   21|\n",
      "|45.5|    2|\n",
      "|  46|    6|\n",
      "|  47|   14|\n",
      "|  48|   14|\n",
      "|  49|    9|\n",
      "|   5|    5|\n",
      "|  50|   15|\n",
      "|  51|    8|\n",
      "|  52|    6|\n",
      "|  53|    4|\n",
      "|  54|   10|\n",
      "|  55|    8|\n",
      "|55.5|    1|\n",
      "|  56|    4|\n",
      "|  57|    5|\n",
      "|  58|    6|\n",
      "|  59|    3|\n",
      "|   6|    6|\n",
      "|  60|    7|\n",
      "|60.5|    1|\n",
      "|  61|    5|\n",
      "|  62|    5|\n",
      "|  63|    4|\n",
      "|  64|    5|\n",
      "|  65|    3|\n",
      "|  66|    1|\n",
      "|  67|    1|\n",
      "|   7|    4|\n",
      "|  70|    2|\n",
      "|70.5|    1|\n",
      "|  71|    2|\n",
      "|  74|    1|\n",
      "|  76|    1|\n",
      "|   8|    6|\n",
      "|  80|    1|\n",
      "|   9|   10|\n",
      "+----+-----+\n",
      "\n"
     ]
    }
   ],
   "source": [
    "age_hist = spark.sql(\n",
    "    \"SELECT Age AS age, \\\n",
    "            count(*) AS count \\\n",
    "    FROM train \\\n",
    "    GROUP BY Age \\\n",
    "    ORDER BY Age\")\n",
    "age_hist.show(n=age_hist.count())"
   ]
  },
  {
   "cell_type": "code",
   "execution_count": 32,
   "metadata": {},
   "outputs": [
    {
     "name": "stdout",
     "output_type": "stream",
     "text": [
      "+------------+-----------+-----+\n",
      "|bucket_floor|bucket_name|count|\n",
      "+------------+-----------+-----+\n",
      "|        null|       null|  263|\n",
      "|           0|     0 to 5|   51|\n",
      "|           5|    5 to 10|   31|\n",
      "|          10|   10 to 15|   27|\n",
      "|          15|   15 to 20|  116|\n",
      "|          20|   20 to 25|  184|\n",
      "|          25|   25 to 30|  160|\n",
      "|          30|   30 to 35|  132|\n",
      "|          35|   35 to 40|  100|\n",
      "|          40|   40 to 45|   69|\n",
      "|          45|   45 to 50|   66|\n",
      "|          50|   50 to 55|   43|\n",
      "|          55|   55 to 60|   27|\n",
      "|          60|   60 to 65|   27|\n",
      "|          65|   65 to 70|    5|\n",
      "|          70|   70 to 75|    6|\n",
      "|          75|   75 to 80|    1|\n",
      "|          80|   80 to 85|    1|\n",
      "+------------+-----------+-----+\n",
      "\n"
     ]
    }
   ],
   "source": [
    "age_hist = spark.sql(\n",
    "    \"SELECT bucket_floor, \\\n",
    "        CONCAT(bucket_floor, ' to ', bucket_ceiling) as bucket_name, \\\n",
    "        count(*) as count \\\n",
    "     FROM ( \\\n",
    "        SELECT floor(Age/5.00)*5 as bucket_floor, \\\n",
    "            floor(Age/5.00)*5 + 5 as bucket_ceiling \\\n",
    "        FROM train \\\n",
    "     ) a \\\n",
    "     GROUP BY 1, 2 \\\n",
    "     ORDER BY 1\")\n",
    "\n",
    "age_hist.show(n=age_hist.count())\n"
   ]
  },
  {
   "cell_type": "code",
   "execution_count": 33,
   "metadata": {
    "collapsed": true
   },
   "outputs": [],
   "source": [
    "def get_column(df, colname):\n",
    "    coldata = df.rdd.map(lambda r: r[colname]).collect()\n",
    "    coldata = ['None' if v is None else v for v in coldata] #replace None values\n",
    "    return(coldata)\n",
    "\n",
    "age = get_column(age_hist, \"bucket_name\")\n",
    "count = get_column(age_hist, \"count\")"
   ]
  },
  {
   "cell_type": "code",
   "execution_count": 34,
   "metadata": {},
   "outputs": [
    {
     "data": {
      "image/png": "[encoded data removed]",
      "text/plain": [
       "<matplotlib.figure.Figure at 0x1fcfcd71f60>"
      ]
     },
     "metadata": {},
     "output_type": "display_data"
    }
   ],
   "source": [
    "%matplotlib inline\n",
    "\n",
    "barplt = sns.barplot(age, count)"
   ]
  },
  {
   "cell_type": "code",
   "execution_count": 35,
   "metadata": {},
   "outputs": [
    {
     "data": {
      "image/png": "[encoded data removed]",
      "text/plain": [
       "<matplotlib.figure.Figure at 0x1fcfb64f898>"
      ]
     },
     "metadata": {},
     "output_type": "display_data"
    }
   ],
   "source": [
    "%matplotlib inline\n",
    "\n",
    "barplt = sns.barplot(age, count)\n",
    "for item in barplt.get_xticklabels():\n",
    "    item.set_rotation(45)"
   ]
  },
  {
   "cell_type": "markdown",
   "metadata": {},
   "source": [
    "#### Histogram Function"
   ]
  },
  {
   "cell_type": "code",
   "execution_count": 36,
   "metadata": {
    "collapsed": true
   },
   "outputs": [],
   "source": [
    "def get_column(df, colname):\n",
    "    coldata = df.rdd.map(lambda r: r[colname]).collect()\n",
    "    coldata = ['None' if v is None else v for v in coldata] #replace None values\n",
    "    return(coldata)\n",
    "\n",
    "def histplot(dfname, colname, binsize):\n",
    "    binsize = str(binsize)\n",
    "    dfname.createOrReplaceTempView(\"tmpDF\")\n",
    "    hist_query = \"SELECT bucket_floor, \\\n",
    "        CONCAT(bucket_floor, ' to ', bucket_ceiling) as bucket_name, \\\n",
    "        count(*) as count \\\n",
    "     FROM ( \\\n",
    "        SELECT floor(\" + colname + \"/\" + binsize + \")*\" + binsize + \" as bucket_floor, \\\n",
    "            floor(\" + colname + \"/\" + binsize + \")*\" + binsize + \" + \" + binsize + \" as bucket_ceiling \\\n",
    "        FROM tmpDF \\\n",
    "     ) a \\\n",
    "     GROUP BY 1, 2 \\\n",
    "     ORDER BY 1\"\n",
    "    hist_data = spark.sql(hist_query)\n",
    "    xvar = get_column(hist_data, \"bucket_name\")\n",
    "    count = get_column(hist_data, \"count\")\n",
    "    barplt = sns.barplot(xvar, count)\n",
    "    for item in barplt.get_xticklabels():\n",
    "        item.set_rotation(45)\n",
    "    return(barplt)"
   ]
  },
  {
   "cell_type": "code",
   "execution_count": 37,
   "metadata": {},
   "outputs": [
    {
     "data": {
      "text/plain": [
       "<matplotlib.axes._subplots.AxesSubplot at 0x1fcfd2041d0>"
      ]
     },
     "execution_count": 37,
     "metadata": {},
     "output_type": "execute_result"
    },
    {
     "data": {
      "image/png": "[encoded data removed]",
      "text/plain": [
       "<matplotlib.figure.Figure at 0x1fcfd1a7630>"
      ]
     },
     "metadata": {},
     "output_type": "display_data"
    }
   ],
   "source": [
    "histplot(df, \"Age\", 5)"
   ]
  },
  {
   "cell_type": "code",
   "execution_count": 38,
   "metadata": {},
   "outputs": [
    {
     "data": {
      "text/plain": [
       "<matplotlib.axes._subplots.AxesSubplot at 0x1fcfd2d05c0>"
      ]
     },
     "execution_count": 38,
     "metadata": {},
     "output_type": "execute_result"
    },
    {
     "data": {
      "image/png": "[encoded data removed]",
      "text/plain": [
       "<matplotlib.figure.Figure at 0x1fcfd3702b0>"
      ]
     },
     "metadata": {},
     "output_type": "display_data"
    }
   ],
   "source": [
    "histplot(df, \"Age\", 10)"
   ]
  },
  {
   "cell_type": "markdown",
   "metadata": {},
   "source": [
    "#### All Histograms"
   ]
  },
  {
   "cell_type": "markdown",
   "metadata": {},
   "source": [
    "* Play with various binsizes"
   ]
  },
  {
   "cell_type": "code",
   "execution_count": 39,
   "metadata": {},
   "outputs": [
    {
     "name": "stdout",
     "output_type": "stream",
     "text": [
      "root\n",
      " |-- Name: string (nullable = true)\n",
      " |-- Sex: string (nullable = true)\n",
      " |-- Ticket: string (nullable = true)\n",
      " |-- Cabin: string (nullable = true)\n",
      " |-- Embarked: string (nullable = true)\n",
      " |-- Mark: string (nullable = false)\n",
      " |-- PassengerId: integer (nullable = true)\n",
      " |-- Pclass: integer (nullable = true)\n",
      " |-- SibSp: integer (nullable = true)\n",
      " |-- Parch: integer (nullable = true)\n",
      " |-- Survived: integer (nullable = true)\n",
      " |-- Age: float (nullable = true)\n",
      " |-- Fare: float (nullable = true)\n",
      "\n"
     ]
    }
   ],
   "source": [
    "df.printSchema()"
   ]
  },
  {
   "cell_type": "code",
   "execution_count": 40,
   "metadata": {},
   "outputs": [
    {
     "data": {
      "text/plain": [
       "<matplotlib.axes._subplots.AxesSubplot at 0x1fcfd3ce710>"
      ]
     },
     "execution_count": 40,
     "metadata": {},
     "output_type": "execute_result"
    },
    {
     "data": {
      "image/png": "[encoded data removed]",
      "text/plain": [
       "<matplotlib.figure.Figure at 0x1fcfd425c50>"
      ]
     },
     "metadata": {},
     "output_type": "display_data"
    }
   ],
   "source": [
    "histplot(df, \"Age\", 5)"
   ]
  },
  {
   "cell_type": "code",
   "execution_count": 41,
   "metadata": {},
   "outputs": [
    {
     "data": {
      "text/plain": [
       "<matplotlib.axes._subplots.AxesSubplot at 0x1fcfd5305f8>"
      ]
     },
     "execution_count": 41,
     "metadata": {},
     "output_type": "execute_result"
    },
    {
     "data": {
      "image/png": "[encoded data removed]",
      "text/plain": [
       "<matplotlib.figure.Figure at 0x1fcfd5d86a0>"
      ]
     },
     "metadata": {},
     "output_type": "display_data"
    }
   ],
   "source": [
    "histplot(df, \"Survived\", 1)"
   ]
  },
  {
   "cell_type": "code",
   "execution_count": 42,
   "metadata": {},
   "outputs": [
    {
     "data": {
      "text/plain": [
       "<matplotlib.axes._subplots.AxesSubplot at 0x1fcfd63bda0>"
      ]
     },
     "execution_count": 42,
     "metadata": {},
     "output_type": "execute_result"
    },
    {
     "data": {
      "image/png": "[encoded data removed]",
      "text/plain": [
       "<matplotlib.figure.Figure at 0x1fcfd5e4588>"
      ]
     },
     "metadata": {},
     "output_type": "display_data"
    }
   ],
   "source": [
    "histplot(df, \"Survived\", 1)"
   ]
  },
  {
   "cell_type": "code",
   "execution_count": 43,
   "metadata": {},
   "outputs": [
    {
     "data": {
      "text/plain": [
       "<matplotlib.axes._subplots.AxesSubplot at 0x1fcfd6b7828>"
      ]
     },
     "execution_count": 43,
     "metadata": {},
     "output_type": "execute_result"
    },
    {
     "data": {
      "image/png": "[encoded data removed]",
      "text/plain": [
       "<matplotlib.figure.Figure at 0x1fcfd5ddcc0>"
      ]
     },
     "metadata": {},
     "output_type": "display_data"
    }
   ],
   "source": [
    "histplot(df, \"Pclass\", 5)"
   ]
  },
  {
   "cell_type": "code",
   "execution_count": 44,
   "metadata": {},
   "outputs": [
    {
     "data": {
      "text/plain": [
       "<matplotlib.axes._subplots.AxesSubplot at 0x1fcfd6421d0>"
      ]
     },
     "execution_count": 44,
     "metadata": {},
     "output_type": "execute_result"
    },
    {
     "data": {
      "image/png": "[encoded data removed]",
      "text/plain": [
       "<matplotlib.figure.Figure at 0x1fcfd769128>"
      ]
     },
     "metadata": {},
     "output_type": "display_data"
    }
   ],
   "source": [
    "histplot(df, \"SibSp\", 1)"
   ]
  },
  {
   "cell_type": "code",
   "execution_count": 45,
   "metadata": {},
   "outputs": [
    {
     "data": {
      "text/plain": [
       "<matplotlib.axes._subplots.AxesSubplot at 0x1fcfd065dd8>"
      ]
     },
     "execution_count": 45,
     "metadata": {},
     "output_type": "execute_result"
    },
    {
     "data": {
      "image/png": "[encoded data removed]",
      "text/plain": [
       "<matplotlib.figure.Figure at 0x1fcfd093518>"
      ]
     },
     "metadata": {},
     "output_type": "display_data"
    }
   ],
   "source": [
    "histplot(df, \"Parch\", 1)"
   ]
  },
  {
   "cell_type": "code",
   "execution_count": 46,
   "metadata": {},
   "outputs": [
    {
     "data": {
      "text/plain": [
       "<matplotlib.axes._subplots.AxesSubplot at 0x1fcfcf99128>"
      ]
     },
     "execution_count": 46,
     "metadata": {},
     "output_type": "execute_result"
    },
    {
     "data": {
      "image/png": "[encoded data removed]",
      "text/plain": [
       "<matplotlib.figure.Figure at 0x1fcfcfcf160>"
      ]
     },
     "metadata": {},
     "output_type": "display_data"
    }
   ],
   "source": [
    "histplot(df, \"Age\", 5)"
   ]
  },
  {
   "cell_type": "code",
   "execution_count": 47,
   "metadata": {},
   "outputs": [
    {
     "data": {
      "text/plain": [
       "<matplotlib.axes._subplots.AxesSubplot at 0x1fcfcfbf4e0>"
      ]
     },
     "execution_count": 47,
     "metadata": {},
     "output_type": "execute_result"
    },
    {
     "data": {
      "image/png": "[encoded data removed]",
      "text/plain": [
       "<matplotlib.figure.Figure at 0x1fcfd931160>"
      ]
     },
     "metadata": {},
     "output_type": "display_data"
    }
   ],
   "source": [
    "histplot(df, \"Fare\", 5)"
   ]
  },
  {
   "cell_type": "code",
   "execution_count": 48,
   "metadata": {},
   "outputs": [
    {
     "data": {
      "text/plain": [
       "<matplotlib.axes._subplots.AxesSubplot at 0x1fcfdb1d0f0>"
      ]
     },
     "execution_count": 48,
     "metadata": {},
     "output_type": "execute_result"
    },
    {
     "data": {
      "image/png": "[encoded data removed]",
      "text/plain": [
       "<matplotlib.figure.Figure at 0x1fcfdb48080>"
      ]
     },
     "metadata": {},
     "output_type": "display_data"
    }
   ],
   "source": [
    "histplot(df, \"Fare\", 10)"
   ]
  },
  {
   "cell_type": "markdown",
   "metadata": {},
   "source": [
    "Let's test with a categorical variable."
   ]
  },
  {
   "cell_type": "code",
   "execution_count": 49,
   "metadata": {},
   "outputs": [
    {
     "data": {
      "text/plain": [
       "<matplotlib.axes._subplots.AxesSubplot at 0x1fcfdd4bf98>"
      ]
     },
     "execution_count": 49,
     "metadata": {},
     "output_type": "execute_result"
    },
    {
     "data": {
      "image/png": "[encoded data removed]",
      "text/plain": [
       "<matplotlib.figure.Figure at 0x1fcfdc2edd8>"
      ]
     },
     "metadata": {},
     "output_type": "display_data"
    }
   ],
   "source": [
    "histplot(trainDF, \"Embarked\", 1)"
   ]
  },
  {
   "cell_type": "code",
   "execution_count": 50,
   "metadata": {
    "collapsed": true
   },
   "outputs": [],
   "source": [
    "def histplot_s(df, colname):\n",
    "    xvar = get_column(df, colname)\n",
    "    counter = collections.Counter(xvar)\n",
    "    barplt = sns.barplot(list(counter.keys()), list(counter.values()))\n",
    "    for item in barplt.get_xticklabels():\n",
    "        item.set_rotation(45)\n",
    "    return(barplt)"
   ]
  },
  {
   "cell_type": "code",
   "execution_count": 51,
   "metadata": {},
   "outputs": [
    {
     "data": {
      "text/plain": [
       "<matplotlib.axes._subplots.AxesSubplot at 0x1fcfddc16d8>"
      ]
     },
     "execution_count": 51,
     "metadata": {},
     "output_type": "execute_result"
    },
    {
     "data": {
      "image/png": "[encoded data removed]",
      "text/plain": [
       "<matplotlib.figure.Figure at 0x1fcfdd55c88>"
      ]
     },
     "metadata": {},
     "output_type": "display_data"
    }
   ],
   "source": [
    "histplot_s(df, \"Sex\")"
   ]
  },
  {
   "cell_type": "code",
   "execution_count": 52,
   "metadata": {},
   "outputs": [
    {
     "data": {
      "text/plain": [
       "<matplotlib.axes._subplots.AxesSubplot at 0x1fcfddce438>"
      ]
     },
     "execution_count": 52,
     "metadata": {},
     "output_type": "execute_result"
    },
    {
     "data": {
      "image/png": "[encoded data removed]",
      "text/plain": [
       "<matplotlib.figure.Figure at 0x1fcfd81df60>"
      ]
     },
     "metadata": {},
     "output_type": "display_data"
    }
   ],
   "source": [
    "histplot_s(df, \"Embarked\")"
   ]
  },
  {
   "cell_type": "markdown",
   "metadata": {},
   "source": [
    "#### Correlations"
   ]
  },
  {
   "cell_type": "code",
   "execution_count": 53,
   "metadata": {},
   "outputs": [
    {
     "data": {
      "text/plain": [
       "0.21349686667435705"
      ]
     },
     "execution_count": 53,
     "metadata": {},
     "output_type": "execute_result"
    }
   ],
   "source": [
    "df.corr(\"Age\", \"Fare\")"
   ]
  },
  {
   "cell_type": "code",
   "execution_count": 54,
   "metadata": {},
   "outputs": [
    {
     "data": {
      "text/plain": [
       "0.005296468730662053"
      ]
     },
     "execution_count": 54,
     "metadata": {},
     "output_type": "execute_result"
    }
   ],
   "source": [
    "df.corr(\"Age\", \"Survived\")"
   ]
  },
  {
   "cell_type": "code",
   "execution_count": 55,
   "metadata": {},
   "outputs": [
    {
     "data": {
      "text/plain": [
       "0.1738945206553876"
      ]
     },
     "execution_count": 55,
     "metadata": {},
     "output_type": "execute_result"
    }
   ],
   "source": [
    "df.corr(\"Fare\", \"Survived\")"
   ]
  },
  {
   "cell_type": "markdown",
   "metadata": {},
   "source": [
    "Currently, only *pearson* is supported."
   ]
  },
  {
   "cell_type": "markdown",
   "metadata": {},
   "source": [
    "### Missing Value Imputation"
   ]
  },
  {
   "cell_type": "code",
   "execution_count": 56,
   "metadata": {
    "collapsed": true
   },
   "outputs": [],
   "source": [
    "numVars = ['Survived','Age','SibSp','Parch','Fare']\n",
    "stringVars = ['Cabin', 'Embarked', 'Pclass', 'Sex']\n",
    "\n",
    "def countNull(df,var):\n",
    "    return df.where(df[var].isNull()).count()\n",
    "\n",
    "def countEmptyString(df,var):\n",
    "    return df[df[var].isin(\"\")].count()\n",
    "\n",
    "def countZero(df,var):\n",
    "    return df[df[var].isin(0)].count()"
   ]
  },
  {
   "cell_type": "code",
   "execution_count": 57,
   "metadata": {},
   "outputs": [
    {
     "data": {
      "text/plain": [
       "{'Age': 263,\n",
       " 'Cabin': 1014,\n",
       " 'Embarked': 2,\n",
       " 'Fare': 1,\n",
       " 'Mark': 0,\n",
       " 'Name': 0,\n",
       " 'Parch': 0,\n",
       " 'PassengerId': 0,\n",
       " 'Pclass': 0,\n",
       " 'Sex': 0,\n",
       " 'SibSp': 0,\n",
       " 'Survived': 0,\n",
       " 'Ticket': 0}"
      ]
     },
     "execution_count": 57,
     "metadata": {},
     "output_type": "execute_result"
    }
   ],
   "source": [
    "missing = {var: countNull(df,var) for var in df.columns}\n",
    "missing"
   ]
  },
  {
   "cell_type": "code",
   "execution_count": 58,
   "metadata": {},
   "outputs": [
    {
     "data": {
      "text/plain": [
       "{'Age': 0,\n",
       " 'Cabin': 0,\n",
       " 'Embarked': 0,\n",
       " 'Fare': 0,\n",
       " 'Mark': 0,\n",
       " 'Name': 0,\n",
       " 'Parch': 0,\n",
       " 'PassengerId': 0,\n",
       " 'Pclass': 0,\n",
       " 'Sex': 0,\n",
       " 'SibSp': 0,\n",
       " 'Survived': 0,\n",
       " 'Ticket': 0}"
      ]
     },
     "execution_count": 58,
     "metadata": {},
     "output_type": "execute_result"
    }
   ],
   "source": [
    "missing = {var: countEmptyString(df, var) for var in df.columns}\n",
    "missing"
   ]
  },
  {
   "cell_type": "code",
   "execution_count": 59,
   "metadata": {},
   "outputs": [
    {
     "data": {
      "text/plain": [
       "{'Age': 0,\n",
       " 'Cabin': 0,\n",
       " 'Embarked': 0,\n",
       " 'Fare': 17,\n",
       " 'Mark': 0,\n",
       " 'Name': 0,\n",
       " 'Parch': 1002,\n",
       " 'PassengerId': 0,\n",
       " 'Pclass': 0,\n",
       " 'Sex': 0,\n",
       " 'SibSp': 891,\n",
       " 'Survived': 967,\n",
       " 'Ticket': 0}"
      ]
     },
     "execution_count": 59,
     "metadata": {},
     "output_type": "execute_result"
    }
   ],
   "source": [
    "missing = {var: countZero(df, var) for var in df.columns}\n",
    "missing"
   ]
  },
  {
   "cell_type": "code",
   "execution_count": 60,
   "metadata": {},
   "outputs": [
    {
     "data": {
      "text/plain": [
       "Row(avg(Age)=29.881137667305726)"
      ]
     },
     "execution_count": 60,
     "metadata": {},
     "output_type": "execute_result"
    }
   ],
   "source": [
    "age_mean = df.groupBy().mean('Age').first()\n",
    "age_mean"
   ]
  },
  {
   "cell_type": "code",
   "execution_count": 61,
   "metadata": {},
   "outputs": [
    {
     "data": {
      "text/plain": [
       "29.881137667305726"
      ]
     },
     "execution_count": 61,
     "metadata": {},
     "output_type": "execute_result"
    }
   ],
   "source": [
    "age_mean[0]"
   ]
  },
  {
   "cell_type": "code",
   "execution_count": 62,
   "metadata": {},
   "outputs": [
    {
     "data": {
      "text/plain": [
       "(29.881137667305726, 33.29547938203228)"
      ]
     },
     "execution_count": 62,
     "metadata": {},
     "output_type": "execute_result"
    }
   ],
   "source": [
    "age_mean = df.groupBy().mean('Age').first()[0]\n",
    "fare_mean = df.groupBy().mean('Fare').first()[0]\n",
    "age_mean, fare_mean"
   ]
  },
  {
   "cell_type": "code",
   "execution_count": 72,
   "metadata": {
    "collapsed": true
   },
   "outputs": [],
   "source": [
    "df = df.na.fill({'Age':age_mean,'Fare':fare_mean,'Embarked':'S'})"
   ]
  },
  {
   "cell_type": "code",
   "execution_count": 73,
   "metadata": {},
   "outputs": [
    {
     "name": "stdout",
     "output_type": "stream",
     "text": [
      "+--------------------+------+----------------+-----+--------+-----+-----------+------+-----+-----+--------+---------+-------+------+\n",
      "|                Name|   Sex|          Ticket|Cabin|Embarked| Mark|PassengerId|Pclass|SibSp|Parch|Survived|      Age|   Fare| Title|\n",
      "+--------------------+------+----------------+-----+--------+-----+-----------+------+-----+-----+--------+---------+-------+------+\n",
      "|Braund, Mr. Owen ...|  male|       A/5 21171| null|       S|train|          1|     3|    1|    0|       0|     22.0|   7.25|    Mr|\n",
      "|Cumings, Mrs. Joh...|female|        PC 17599|  C85|       C|train|          2|     1|    1|    0|       1|     38.0|71.2833|   Mrs|\n",
      "|Heikkinen, Miss. ...|female|STON/O2. 3101282| null|       S|train|          3|     3|    0|    0|       1|     26.0|  7.925|  Miss|\n",
      "|Futrelle, Mrs. Ja...|female|          113803| C123|       S|train|          4|     1|    1|    0|       1|     35.0|   53.1|   Mrs|\n",
      "|Allen, Mr. Willia...|  male|          373450| null|       S|train|          5|     3|    0|    0|       0|     35.0|   8.05|    Mr|\n",
      "|    Moran, Mr. James|  male|          330877| null|       Q|train|          6|     3|    0|    0|       0|29.881138| 8.4583|    Mr|\n",
      "|McCarthy, Mr. Tim...|  male|           17463|  E46|       S|train|          7|     1|    0|    0|       0|     54.0|51.8625|    Mr|\n",
      "|Palsson, Master. ...|  male|          349909| null|       S|train|          8|     3|    3|    1|       0|      2.0| 21.075|Master|\n",
      "|Johnson, Mrs. Osc...|female|          347742| null|       S|train|          9|     3|    0|    2|       1|     27.0|11.1333|   Mrs|\n",
      "|Nasser, Mrs. Nich...|female|          237736| null|       C|train|         10|     2|    1|    0|       1|     14.0|30.0708|   Mrs|\n",
      "|Sandstrom, Miss. ...|female|         PP 9549|   G6|       S|train|         11|     3|    1|    1|       1|      4.0|   16.7|  Miss|\n",
      "|Bonnell, Miss. El...|female|          113783| C103|       S|train|         12|     1|    0|    0|       1|     58.0|  26.55|  Miss|\n",
      "|Saundercock, Mr. ...|  male|       A/5. 2151| null|       S|train|         13|     3|    0|    0|       0|     20.0|   8.05|    Mr|\n",
      "|Andersson, Mr. An...|  male|          347082| null|       S|train|         14|     3|    1|    5|       0|     39.0| 31.275|    Mr|\n",
      "|Vestrom, Miss. Hu...|female|          350406| null|       S|train|         15|     3|    0|    0|       0|     14.0| 7.8542|  Miss|\n",
      "|Hewlett, Mrs. (Ma...|female|          248706| null|       S|train|         16|     2|    0|    0|       1|     55.0|   16.0|   Mrs|\n",
      "|Rice, Master. Eugene|  male|          382652| null|       Q|train|         17|     3|    4|    1|       0|      2.0| 29.125|Master|\n",
      "|Williams, Mr. Cha...|  male|          244373| null|       S|train|         18|     2|    0|    0|       1|29.881138|   13.0|    Mr|\n",
      "|Vander Planke, Mr...|female|          345763| null|       S|train|         19|     3|    1|    0|       0|     31.0|   18.0|   Mrs|\n",
      "|Masselmani, Mrs. ...|female|            2649| null|       C|train|         20|     3|    0|    0|       1|29.881138|  7.225|   Mrs|\n",
      "+--------------------+------+----------------+-----+--------+-----+-----------+------+-----+-----+--------+---------+-------+------+\n",
      "only showing top 20 rows\n",
      "\n"
     ]
    }
   ],
   "source": [
    "df.show()"
   ]
  },
  {
   "cell_type": "markdown",
   "metadata": {},
   "source": [
    "**What is wrong with what I just did?**"
   ]
  },
  {
   "cell_type": "markdown",
   "metadata": {},
   "source": [
    "### Outlier Treatment"
   ]
  },
  {
   "cell_type": "markdown",
   "metadata": {},
   "source": [
    "* Univariate\n",
    "    - Winsorization\n",
    "* Multivariate\n",
    "\n",
    "* Is it a good idea?\n",
    "* Know your data"
   ]
  },
  {
   "cell_type": "markdown",
   "metadata": {},
   "source": [
    "## Feature Engineering"
   ]
  },
  {
   "cell_type": "markdown",
   "metadata": {},
   "source": [
    "### Applying Domain Expertise"
   ]
  },
  {
   "cell_type": "code",
   "execution_count": 74,
   "metadata": {},
   "outputs": [
    {
     "name": "stdout",
     "output_type": "stream",
     "text": [
      "+--------------------+---------------+\n",
      "|                Name|          Title|\n",
      "+--------------------+---------------+\n",
      "|Braund, Mr. Owen ...|     Braund, Mr|\n",
      "|Cumings, Mrs. Joh...|   Cumings, Mrs|\n",
      "|Heikkinen, Miss. ...|Heikkinen, Miss|\n",
      "|Futrelle, Mrs. Ja...|  Futrelle, Mrs|\n",
      "|Allen, Mr. Willia...|      Allen, Mr|\n",
      "+--------------------+---------------+\n",
      "only showing top 5 rows\n",
      "\n"
     ]
    }
   ],
   "source": [
    "from pyspark.sql.functions import udf\n",
    "from pyspark.sql.types import StringType\n",
    " \n",
    "## create user defined function to extract title\n",
    "getTitle = udf(lambda name: name.split('.')[0].strip(), StringType())\n",
    "df = df.withColumn('Title', getTitle(df['Name']))\n",
    " \n",
    "df.select('Name','Title').show(5)"
   ]
  },
  {
   "cell_type": "code",
   "execution_count": 75,
   "metadata": {},
   "outputs": [
    {
     "name": "stdout",
     "output_type": "stream",
     "text": [
      "+--------------------+-----+\n",
      "|                Name|Title|\n",
      "+--------------------+-----+\n",
      "|Braund, Mr. Owen ...|   Mr|\n",
      "|Cumings, Mrs. Joh...|  Mrs|\n",
      "|Heikkinen, Miss. ...| Miss|\n",
      "|Futrelle, Mrs. Ja...|  Mrs|\n",
      "|Allen, Mr. Willia...|   Mr|\n",
      "+--------------------+-----+\n",
      "only showing top 5 rows\n",
      "\n"
     ]
    }
   ],
   "source": [
    "getTitle = udf(lambda name: name.split('.')[0].split(',')[1].strip(), StringType())\n",
    "df = df.withColumn('Title', getTitle(df['Name']))\n",
    " \n",
    "df.select('Name','Title').show(5)"
   ]
  },
  {
   "cell_type": "markdown",
   "metadata": {},
   "source": [
    "### Categorical Variable treatment"
   ]
  },
  {
   "cell_type": "markdown",
   "metadata": {},
   "source": [
    "**Some algorithms can handle categorical variables directly, some can't.**"
   ]
  },
  {
   "cell_type": "markdown",
   "metadata": {},
   "source": [
    "* Label Encoder\n",
    "    - It is used to transform non-numerical labels to numerical labels (or nominal categorical variables)\n",
    "    - Numerical labels are always between 0 and n_classes-1\n",
    "    - May introduce spurious relationship\n",
    "        * Age and City\n",
    "* One Hot Encoding\n",
    "    - Encodes categorical integer features using a one-hot aka one-of-K scheme\n",
    "    - Preferable"
   ]
  },
  {
   "cell_type": "markdown",
   "metadata": {},
   "source": [
    "#### Label Encoding (Indexing)"
   ]
  },
  {
   "cell_type": "code",
   "execution_count": 76,
   "metadata": {
    "collapsed": true
   },
   "outputs": [],
   "source": [
    "catVars = ['Pclass','Sex','Embarked','Title']"
   ]
  },
  {
   "cell_type": "code",
   "execution_count": 77,
   "metadata": {
    "collapsed": true
   },
   "outputs": [],
   "source": [
    "## index Sex variable\n",
    "si = StringIndexer(inputCol = 'Sex', outputCol = 'Sex_indexed')\n",
    "df_indexed = si.fit(df).transform(df).drop('Sex').withColumnRenamed('Sex_indexed','Sex')"
   ]
  },
  {
   "cell_type": "code",
   "execution_count": 78,
   "metadata": {},
   "outputs": [
    {
     "name": "stdout",
     "output_type": "stream",
     "text": [
      "+--------------------+----------------+-----+--------+-----+-----------+------+-----+-----+--------+----+-------+-----+---+\n",
      "|                Name|          Ticket|Cabin|Embarked| Mark|PassengerId|Pclass|SibSp|Parch|Survived| Age|   Fare|Title|Sex|\n",
      "+--------------------+----------------+-----+--------+-----+-----------+------+-----+-----+--------+----+-------+-----+---+\n",
      "|Braund, Mr. Owen ...|       A/5 21171| null|       S|train|          1|     3|    1|    0|       0|22.0|   7.25|   Mr|0.0|\n",
      "|Cumings, Mrs. Joh...|        PC 17599|  C85|       C|train|          2|     1|    1|    0|       1|38.0|71.2833|  Mrs|1.0|\n",
      "|Heikkinen, Miss. ...|STON/O2. 3101282| null|       S|train|          3|     3|    0|    0|       1|26.0|  7.925| Miss|1.0|\n",
      "|Futrelle, Mrs. Ja...|          113803| C123|       S|train|          4|     1|    1|    0|       1|35.0|   53.1|  Mrs|1.0|\n",
      "|Allen, Mr. Willia...|          373450| null|       S|train|          5|     3|    0|    0|       0|35.0|   8.05|   Mr|0.0|\n",
      "+--------------------+----------------+-----+--------+-----+-----------+------+-----+-----+--------+----+-------+-----+---+\n",
      "only showing top 5 rows\n",
      "\n"
     ]
    }
   ],
   "source": [
    "df_indexed.show(5)"
   ]
  },
  {
   "cell_type": "code",
   "execution_count": 79,
   "metadata": {
    "collapsed": true
   },
   "outputs": [],
   "source": [
    "# make use of pipeline to index all categorical variables\n",
    "def indexer(df, col):\n",
    "    si = StringIndexer(inputCol = col, outputCol = col+'_indexed').fit(df)\n",
    "    return si\n",
    " \n",
    "indexers = [indexer(df, col) for col in catVars]"
   ]
  },
  {
   "cell_type": "code",
   "execution_count": 82,
   "metadata": {},
   "outputs": [
    {
     "name": "stdout",
     "output_type": "stream",
     "text": [
      "+--------+----------------+\n",
      "|Embarked|Embarked_indexed|\n",
      "+--------+----------------+\n",
      "|       S|             0.0|\n",
      "|       C|             1.0|\n",
      "|       S|             0.0|\n",
      "+--------+----------------+\n",
      "only showing top 3 rows\n",
      "\n"
     ]
    }
   ],
   "source": [
    "pipeline = Pipeline(stages = indexers)\n",
    "df_indexed = pipeline.fit(df).transform(df)\n",
    "df_indexed.select('Embarked','Embarked_indexed').show(3)"
   ]
  },
  {
   "cell_type": "markdown",
   "metadata": {},
   "source": [
    "* The categorical features are indexed in resulting data\n",
    "* Embarked is mapped S=>0, C=>1, Q=>2"
   ]
  },
  {
   "cell_type": "markdown",
   "metadata": {},
   "source": [
    "#### StringIndexer\n",
    "\n",
    "* Maps a string column of labels to a column of label indices\n",
    "* If the input column is numeric, we cast it to string and index the string values\n",
    "* The indices are in [0, numLabels), ordered by label frequencies\n",
    "    - So the most frequent label gets index 0."
   ]
  },
  {
   "cell_type": "markdown",
   "metadata": {},
   "source": [
    "#### Transformer\n",
    "\n",
    "* transform one dataset into another"
   ]
  },
  {
   "cell_type": "markdown",
   "metadata": {},
   "source": [
    "#### Estimator\n",
    "\n",
    "* fit models to data"
   ]
  },
  {
   "cell_type": "markdown",
   "metadata": {},
   "source": [
    "#### Pipelines\n",
    "\n",
    " \n",
    "* A Pipeline consists of a sequence of stages, each of which is either an Estimator or a Transformer\n",
    "* When Pipeline.fit() is called, the stages are executed in order\n",
    "    - If a stage is an Estimator, its Estimator.fit() method will be called on the input dataset to fit a model\n",
    "        * Then the model, which is a transformer, will be used to transform the dataset as the input to the next stage\n",
    "    - If a stage is a Transformer, its Transformer.transform() method will be called to produce the dataset for the next stage\n",
    "* The fitted model from a Pipeline is a PipelineModel, which consists of fitted models and transformers, corresponding to the pipeline stages\n",
    "* If there are no stages, the pipeline acts as an identity transformer."
   ]
  },
  {
   "cell_type": "markdown",
   "metadata": {},
   "source": [
    "### Timeseries Variable treatments"
   ]
  },
  {
   "cell_type": "markdown",
   "metadata": {},
   "source": [
    "* Shattering\n",
    "* No time/day variables here"
   ]
  },
  {
   "cell_type": "markdown",
   "metadata": {},
   "source": [
    "## Data format translation"
   ]
  },
  {
   "cell_type": "markdown",
   "metadata": {},
   "source": [
    "* In this step, we get the data in the format or data type expected by the algorithms\n",
    "* In the case of Spark MLlib, this includes \n",
    "    - local vector\n",
    "    - dense or sparse vectors\n",
    "    - labeled points\n",
    "    - local matrix\n",
    "    - distributed matrix with row matrix\n",
    "    - indexed row matrix\n",
    "    - coordinate matrix\n",
    "    - block matrix"
   ]
  },
  {
   "cell_type": "markdown",
   "metadata": {},
   "source": [
    "In our case, we need convert features to Vectors (either SparseVector or DenseVector)."
   ]
  },
  {
   "cell_type": "code",
   "execution_count": 83,
   "metadata": {
    "collapsed": true
   },
   "outputs": [],
   "source": [
    "from pyspark.sql import Row\n",
    "from pyspark.ml.linalg import DenseVector"
   ]
  },
  {
   "cell_type": "code",
   "execution_count": 84,
   "metadata": {},
   "outputs": [
    {
     "data": {
      "text/plain": [
       "['Pclass_indexed', 'Sex_indexed', 'Embarked_indexed', 'Title_indexed']"
      ]
     },
     "execution_count": 84,
     "metadata": {},
     "output_type": "execute_result"
    }
   ],
   "source": [
    "catVarsIndexed = [i + '_indexed' for i in catVars]\n",
    "catVarsIndexed"
   ]
  },
  {
   "cell_type": "code",
   "execution_count": 85,
   "metadata": {},
   "outputs": [
    {
     "data": {
      "text/plain": [
       "['Survived',\n",
       " 'Age',\n",
       " 'SibSp',\n",
       " 'Parch',\n",
       " 'Fare',\n",
       " 'Pclass_indexed',\n",
       " 'Sex_indexed',\n",
       " 'Embarked_indexed',\n",
       " 'Title_indexed']"
      ]
     },
     "execution_count": 85,
     "metadata": {},
     "output_type": "execute_result"
    }
   ],
   "source": [
    "featuresCol = numVars + catVarsIndexed\n",
    "featuresCol"
   ]
  },
  {
   "cell_type": "code",
   "execution_count": 86,
   "metadata": {},
   "outputs": [
    {
     "data": {
      "text/plain": [
       "['Age',\n",
       " 'SibSp',\n",
       " 'Parch',\n",
       " 'Fare',\n",
       " 'Pclass_indexed',\n",
       " 'Sex_indexed',\n",
       " 'Embarked_indexed',\n",
       " 'Title_indexed']"
      ]
     },
     "execution_count": 86,
     "metadata": {},
     "output_type": "execute_result"
    }
   ],
   "source": [
    "featuresCol.remove('Survived')\n",
    "featuresCol"
   ]
  },
  {
   "cell_type": "code",
   "execution_count": 87,
   "metadata": {},
   "outputs": [
    {
     "data": {
      "text/plain": [
       "['Mark', 'Survived']"
      ]
     },
     "execution_count": 87,
     "metadata": {},
     "output_type": "execute_result"
    }
   ],
   "source": [
    "labelCol = ['Mark','Survived']\n",
    "labelCol"
   ]
  },
  {
   "cell_type": "code",
   "execution_count": 88,
   "metadata": {},
   "outputs": [
    {
     "data": {
      "text/plain": [
       "<Row(mark, label, features)>"
      ]
     },
     "execution_count": 88,
     "metadata": {},
     "output_type": "execute_result"
    }
   ],
   "source": [
    "row = Row('mark','label','features') \n",
    "row"
   ]
  },
  {
   "cell_type": "code",
   "execution_count": 89,
   "metadata": {},
   "outputs": [
    {
     "data": {
      "text/plain": [
       "DataFrame[Mark: string, Survived: int, Age: float, SibSp: int, Parch: int, Fare: float, Pclass_indexed: double, Sex_indexed: double, Embarked_indexed: double, Title_indexed: double]"
      ]
     },
     "execution_count": 89,
     "metadata": {},
     "output_type": "execute_result"
    }
   ],
   "source": [
    "df_indexed = df_indexed[labelCol + featuresCol]\n",
    "df_indexed"
   ]
  },
  {
   "cell_type": "code",
   "execution_count": 90,
   "metadata": {},
   "outputs": [
    {
     "name": "stdout",
     "output_type": "stream",
     "text": [
      "+-----+-----+--------------------+\n",
      "| mark|label|            features|\n",
      "+-----+-----+--------------------+\n",
      "|train|    0|[22.0,1.0,0.0,7.2...|\n",
      "|train|    1|[38.0,1.0,0.0,71....|\n",
      "|train|    1|[26.0,0.0,0.0,7.9...|\n",
      "|train|    1|[35.0,1.0,0.0,53....|\n",
      "|train|    0|[35.0,0.0,0.0,8.0...|\n",
      "|train|    0|[29.8811378479003...|\n",
      "|train|    0|[54.0,0.0,0.0,51....|\n",
      "|train|    0|[2.0,3.0,1.0,21.0...|\n",
      "|train|    1|[27.0,0.0,2.0,11....|\n",
      "|train|    1|[14.0,1.0,0.0,30....|\n",
      "|train|    1|[4.0,1.0,1.0,16.7...|\n",
      "|train|    1|[58.0,0.0,0.0,26....|\n",
      "|train|    0|[20.0,0.0,0.0,8.0...|\n",
      "|train|    0|[39.0,1.0,5.0,31....|\n",
      "|train|    0|[14.0,0.0,0.0,7.8...|\n",
      "|train|    1|[55.0,0.0,0.0,16....|\n",
      "|train|    0|[2.0,4.0,1.0,29.1...|\n",
      "|train|    1|[29.8811378479003...|\n",
      "|train|    0|[31.0,1.0,0.0,18....|\n",
      "|train|    1|[29.8811378479003...|\n",
      "+-----+-----+--------------------+\n",
      "only showing top 20 rows\n",
      "\n"
     ]
    }
   ],
   "source": [
    "# 0-mark, 1-label, 2-features\n",
    "# map features to DenseVector\n",
    "lf = df_indexed.rdd.map(lambda r: (row(r[0], r[1],DenseVector(r[2:])))).toDF()\n",
    "lf.show()"
   ]
  },
  {
   "cell_type": "code",
   "execution_count": 91,
   "metadata": {},
   "outputs": [
    {
     "name": "stdout",
     "output_type": "stream",
     "text": [
      "+-----+-----+--------------------+-----+\n",
      "| mark|label|            features|index|\n",
      "+-----+-----+--------------------+-----+\n",
      "|train|    0|[22.0,1.0,0.0,7.2...|  0.0|\n",
      "|train|    1|[38.0,1.0,0.0,71....|  1.0|\n",
      "|train|    1|[26.0,0.0,0.0,7.9...|  1.0|\n",
      "+-----+-----+--------------------+-----+\n",
      "only showing top 3 rows\n",
      "\n"
     ]
    }
   ],
   "source": [
    "# index label\n",
    "# convert numeric label to categorical, which is required by\n",
    "# decisionTree and randomForest\n",
    "lf = StringIndexer(inputCol = 'label', outputCol='index').fit(lf).transform(lf)\n",
    " \n",
    "lf.show(3)"
   ]
  },
  {
   "cell_type": "markdown",
   "metadata": {},
   "source": [
    "### Split back into train/test data"
   ]
  },
  {
   "cell_type": "code",
   "execution_count": 92,
   "metadata": {
    "collapsed": true
   },
   "outputs": [],
   "source": [
    "train = lf.where(lf.mark =='train')\n",
    "test = lf.where(lf.mark =='test')"
   ]
  },
  {
   "cell_type": "code",
   "execution_count": 93,
   "metadata": {
    "collapsed": true
   },
   "outputs": [],
   "source": [
    "# random split further to get train/validate\n",
    "train, validate = train.randomSplit([0.7,0.3], seed =121)"
   ]
  },
  {
   "cell_type": "code",
   "execution_count": 94,
   "metadata": {},
   "outputs": [
    {
     "name": "stdout",
     "output_type": "stream",
     "text": [
      "Train Data Number of Row: 637\n",
      "Validate Data Number of Row: 254\n",
      "Test Data Number of Row: 418\n"
     ]
    }
   ],
   "source": [
    "print('Train Data Number of Row: '+ str(train.count()))\n",
    "print('Validate Data Number of Row: '+ str(validate.count()))\n",
    "print('Test Data Number of Row: '+ str(test.count()))"
   ]
  },
  {
   "cell_type": "markdown",
   "metadata": {},
   "source": [
    "## Modeling"
   ]
  },
  {
   "cell_type": "markdown",
   "metadata": {},
   "source": [
    "* ML is built based on DataFrame, while mllib is based on RDD\n",
    "* We'll fit the logistic, decision tree and random forest models from ML packages"
   ]
  },
  {
   "cell_type": "markdown",
   "metadata": {},
   "source": [
    "#### Logistic Regression"
   ]
  },
  {
   "cell_type": "code",
   "execution_count": 95,
   "metadata": {
    "collapsed": true
   },
   "outputs": [],
   "source": [
    "from pyspark.ml.classification import LogisticRegression\n",
    " \n",
    "# regPara: lasso regularisation parameter (L1)\n",
    "lr = LogisticRegression(maxIter = 100, regParam = 0.05, labelCol='index').fit(train)"
   ]
  },
  {
   "cell_type": "code",
   "execution_count": 96,
   "metadata": {
    "collapsed": true
   },
   "outputs": [],
   "source": [
    "# Evaluate model based on auc ROC(default for binary classification)\n",
    "from pyspark.ml.evaluation import BinaryClassificationEvaluator\n",
    " \n",
    "def testModel(model, validate = validate):\n",
    "    pred = model.transform(validate)\n",
    "    evaluator = BinaryClassificationEvaluator(labelCol = 'index')\n",
    "    return evaluator.evaluate(pred)"
   ]
  },
  {
   "cell_type": "code",
   "execution_count": 97,
   "metadata": {},
   "outputs": [
    {
     "name": "stdout",
     "output_type": "stream",
     "text": [
      "AUC ROC of Logistic Regression model is: 0.8285951045385012\n"
     ]
    }
   ],
   "source": [
    "print('AUC ROC of Logistic Regression model is: ' + str(testModel(lr)))"
   ]
  },
  {
   "cell_type": "code",
   "execution_count": 98,
   "metadata": {},
   "outputs": [
    {
     "name": "stdout",
     "output_type": "stream",
     "text": [
      "AUC ROC of Logistic Regression model is: 0.0\n"
     ]
    }
   ],
   "source": [
    "print('AUC ROC of Logistic Regression model is: ' + str(testModel(lr, validate=test)))"
   ]
  },
  {
   "cell_type": "code",
   "execution_count": 99,
   "metadata": {},
   "outputs": [
    {
     "name": "stdout",
     "output_type": "stream",
     "text": [
      "+----+-----+--------------------+-----+--------------------+--------------------+----------+\n",
      "|mark|label|            features|index|       rawPrediction|         probability|prediction|\n",
      "+----+-----+--------------------+-----+--------------------+--------------------+----------+\n",
      "|test|    0|[34.5,0.0,0.0,7.8...|  0.0|[1.50093878184650...|[0.81771445043407...|       0.0|\n",
      "|test|    0|[47.0,1.0,0.0,7.0...|  0.0|[0.33504871153120...|[0.58298729666084...|       0.0|\n",
      "|test|    0|[62.0,0.0,0.0,9.6...|  0.0|[0.98902877893260...|[0.72889604532691...|       0.0|\n",
      "|test|    0|[27.0,0.0,0.0,8.6...|  0.0|[1.86527300534768...|[0.86591037672668...|       0.0|\n",
      "|test|    0|[22.0,1.0,1.0,12....|  0.0|[-0.1359069367112...|[0.46607546723044...|       1.0|\n",
      "+----+-----+--------------------+-----+--------------------+--------------------+----------+\n",
      "only showing top 5 rows\n",
      "\n"
     ]
    }
   ],
   "source": [
    "pred_test = lr.transform(test)\n",
    "pred_test.show(5)"
   ]
  },
  {
   "cell_type": "markdown",
   "metadata": {},
   "source": [
    "#### More Models"
   ]
  },
  {
   "cell_type": "code",
   "execution_count": 100,
   "metadata": {
    "collapsed": true
   },
   "outputs": [],
   "source": [
    "from pyspark.ml.classification import DecisionTreeClassifier, RandomForestClassifier, GBTClassifier\n",
    " \n",
    "dt = DecisionTreeClassifier(maxDepth = 3, labelCol ='index').fit(train)\n",
    "rf = RandomForestClassifier(numTrees = 100, labelCol = 'index').fit(train)\n",
    "gbt = GBTClassifier(maxIter = 10, labelCol = 'index').fit(train)\n"
   ]
  },
  {
   "cell_type": "code",
   "execution_count": 101,
   "metadata": {},
   "outputs": [
    {
     "name": "stdout",
     "output_type": "stream",
     "text": [
      "{'LogisticRegression': 0.8285951045385012, 'DecistionTree': 0.5850012748597655, 'RandomForest': 0.8510963793982664}\n"
     ]
    }
   ],
   "source": [
    "models = {'LogisticRegression':lr,\n",
    "          'DecistionTree':dt,\n",
    "          'RandomForest':rf}\n",
    " \n",
    "modelPerf = {k:testModel(v) for k,v in models.items()}\n",
    "print(modelPerf)"
   ]
  },
  {
   "cell_type": "code",
   "execution_count": 102,
   "metadata": {
    "collapsed": true
   },
   "outputs": [],
   "source": [
    "def model_acc(model, validate=validate):\n",
    "    pred = model.transform(validate)\n",
    "    eval_vec = np.array(get_column(pred, \"label\")) == np.array(get_column(pred, \"prediction\")) \n",
    "    return(eval_vec.sum()/len(eval_vec))"
   ]
  },
  {
   "cell_type": "code",
   "execution_count": 103,
   "metadata": {},
   "outputs": [
    {
     "data": {
      "text/plain": [
       "0.77559055118110232"
      ]
     },
     "execution_count": 103,
     "metadata": {},
     "output_type": "execute_result"
    }
   ],
   "source": [
    "model_acc(gbt)"
   ]
  },
  {
   "cell_type": "code",
   "execution_count": 104,
   "metadata": {},
   "outputs": [
    {
     "name": "stdout",
     "output_type": "stream",
     "text": [
      "{'LogisticRegression': 0.79133858267716539, 'DecistionTree': 0.79133858267716539, 'RandomForest': 0.80708661417322836, 'GradientBoostingMachines': 0.77559055118110232}\n"
     ]
    }
   ],
   "source": [
    "models = {'LogisticRegression':lr,\n",
    "          'DecistionTree':dt,\n",
    "          'RandomForest':rf,\n",
    "          'GradientBoostingMachines':gbt}\n",
    "\n",
    "modelPerf = {k:model_acc(v) for k,v in models.items()}\n",
    "print(modelPerf)"
   ]
  },
  {
   "cell_type": "markdown",
   "metadata": {},
   "source": [
    "#### Tuning"
   ]
  },
  {
   "cell_type": "code",
   "execution_count": 105,
   "metadata": {},
   "outputs": [
    {
     "name": "stdout",
     "output_type": "stream",
     "text": [
      "AUC ROC of Decision Tree model is(for maxDepth= 0): 0.5\n",
      "AUC ROC of Decision Tree model is(for maxDepth= 1): 0.75790413054564\n",
      "AUC ROC of Decision Tree model is(for maxDepth= 2): 0.8093128505864354\n",
      "AUC ROC of Decision Tree model is(for maxDepth= 3): 0.5850012748597654\n",
      "AUC ROC of Decision Tree model is(for maxDepth= 4): 0.5783720040795512\n",
      "AUC ROC of Decision Tree model is(for maxDepth= 5): 0.6147055073941866\n",
      "AUC ROC of Decision Tree model is(for maxDepth= 6): 0.642593064762876\n",
      "AUC ROC of Decision Tree model is(for maxDepth= 7): 0.6685683324834267\n",
      "AUC ROC of Decision Tree model is(for maxDepth= 8): 0.7060810810810811\n",
      "AUC ROC of Decision Tree model is(for maxDepth= 9): 0.7025752167261601\n"
     ]
    }
   ],
   "source": [
    "for i in range(10):\n",
    "    dt = DecisionTreeClassifier(maxDepth = i, labelCol ='index').fit(train)\n",
    "    print('AUC ROC of Decision Tree model is' + '(for maxDepth= ' + str(i) + '): ' + str(testModel(dt)))"
   ]
  },
  {
   "cell_type": "code",
   "execution_count": 107,
   "metadata": {},
   "outputs": [
    {
     "name": "stdout",
     "output_type": "stream",
     "text": [
      "AUC ROC of Random Forest model is(for numTrees= 5): 0.8524031106578275\n",
      "AUC ROC of Random Forest model is(for numTrees= 6): 0.8463156552779193\n",
      "AUC ROC of Random Forest model is(for numTrees= 7): 0.836308006119327\n",
      "AUC ROC of Random Forest model is(for numTrees= 8): 0.8356705762366137\n",
      "AUC ROC of Random Forest model is(for numTrees= 9): 0.8395588985211626\n"
     ]
    }
   ],
   "source": [
    "for i in range(5, 10):\n",
    "    rf = RandomForestClassifier(numTrees = i, labelCol = 'index').fit(train)\n",
    "    print('AUC ROC of Random Forest model is' + '(for numTrees= ' + str(i) + '): ' + str(testModel(rf)))"
   ]
  },
  {
   "cell_type": "code",
   "execution_count": 108,
   "metadata": {
    "collapsed": true
   },
   "outputs": [],
   "source": [
    "sc.stop()"
   ]
  }
 ],
 "metadata": {
  "anaconda-cloud": {},
  "kernelspec": {
   "display_name": "Python 3",
   "language": "python",
   "name": "python3"
  },
  "language_info": {
   "codemirror_mode": {
    "name": "ipython",
    "version": 3
   },
   "file_extension": ".py",
   "mimetype": "text/x-python",
   "name": "python",
   "nbconvert_exporter": "python",
   "pygments_lexer": "ipython3",
   "version": "3.6.2"
  }
 },
 "nbformat": 4,
 "nbformat_minor": 1
}
